{
 "cells": [
  {
   "cell_type": "markdown",
   "metadata": {},
   "source": [
    "# CPI prediction project - STATS 131\n",
    "Group memebers: Kaixin Wang, Qin Hu, Ruby Zhang, and Emily Suan\n",
    "\n",
    "## 1. Objective:\n",
    "To predict CPI (customer price index) of countries using predictors relevant to economic growth. \n",
    "\n",
    "## 2. Introduction:\n",
    "### Datasets:\n",
    "* GDP_and_GDP_Per_Capita.csv (1)\n",
    "* Expenditure_on_Health.csv (2)\n",
    "* Production_Trade_and_Supply_of_Energy.csv (3)\n",
    "* Internet_Usage.csv (4)\n",
    "* Public_Expenditure_on_Education.csv (5)\n",
    "* Tourist_Visitors_Arrival_and_Expenditure.csv (6)\n",
    "* GDP_on_R&D.csv (7)\n",
    "* Exchange_Rates.csv (8)\n",
    "* Consumer_Price_Index.csv (9)\n",
    "\n",
    "### Variables from datasets:\n",
    "* response: CPI (9)\n",
    "* predictors:\n",
    "    - GDP (1)\n",
    "    - expenditure on health (2)\n",
    "    - energy usage (3)\n",
    "    - Internet usage (4)\n",
    "    - expenditure on education (5)\n",
    "    - expenditure on tourism (6)\n",
    "    - expenditure on science & technology (7)\n",
    "    - exchange rate (8)\n",
    "    \n",
    "### Datasets sources:\n",
    "United Nations: http://data.un.org/\n",
    "- National accounts (1)\n",
    "    - GDP and GDP per capita\n",
    "- Nutrition and health (2)\n",
    "    - Health expenditure\n",
    "- Energy (3)\n",
    "    - Energy production, trade and consumption\n",
    "- Communication (4)\n",
    "    - Internet usage\n",
    "- Education (5)\n",
    "    - Public expenditure on education\n",
    "- Science and technology (7)\n",
    "    - Human resources in R & D\n",
    "- Finance (8)\n",
    "    - Exchange rates\n",
    "- Price and production indices (9)\n",
    "    - Consumer price indices\n",
    "   "
   ]
  },
  {
   "cell_type": "markdown",
   "metadata": {},
   "source": [
    "## 3.  Data Clean-up:"
   ]
  },
  {
   "cell_type": "code",
   "execution_count": 1,
   "metadata": {
    "collapsed": true
   },
   "outputs": [],
   "source": [
    "import numpy as np\n",
    "import pandas as pd\n",
    "import matplotlib.pyplot as plt\n",
    "import seaborn as sns"
   ]
  },
  {
   "cell_type": "code",
   "execution_count": 2,
   "metadata": {
    "collapsed": true
   },
   "outputs": [],
   "source": [
    "# handling warning messages:\n",
    "import warnings\n",
    "warnings.filterwarnings('ignore')"
   ]
  },
  {
   "cell_type": "code",
   "execution_count": 3,
   "metadata": {},
   "outputs": [
    {
     "data": {
      "text/html": [
       "<div>\n",
       "<style>\n",
       "    .dataframe thead tr:only-child th {\n",
       "        text-align: right;\n",
       "    }\n",
       "\n",
       "    .dataframe thead th {\n",
       "        text-align: left;\n",
       "    }\n",
       "\n",
       "    .dataframe tbody tr th {\n",
       "        vertical-align: top;\n",
       "    }\n",
       "</style>\n",
       "<table border=\"1\" class=\"dataframe\">\n",
       "  <thead>\n",
       "    <tr style=\"text-align: right;\">\n",
       "      <th></th>\n",
       "      <th>ID</th>\n",
       "      <th>Country</th>\n",
       "      <th>Year</th>\n",
       "      <th>Series</th>\n",
       "      <th>Value</th>\n",
       "    </tr>\n",
       "  </thead>\n",
       "  <tbody>\n",
       "    <tr>\n",
       "      <th>0</th>\n",
       "      <td>4</td>\n",
       "      <td>Afghanistan</td>\n",
       "      <td>2005</td>\n",
       "      <td>Consumer price index: General</td>\n",
       "      <td>71.1</td>\n",
       "    </tr>\n",
       "    <tr>\n",
       "      <th>1</th>\n",
       "      <td>4</td>\n",
       "      <td>Afghanistan</td>\n",
       "      <td>2010</td>\n",
       "      <td>Consumer price index: General</td>\n",
       "      <td>100.0</td>\n",
       "    </tr>\n",
       "    <tr>\n",
       "      <th>2</th>\n",
       "      <td>4</td>\n",
       "      <td>Afghanistan</td>\n",
       "      <td>2014</td>\n",
       "      <td>Consumer price index: General</td>\n",
       "      <td>133.1</td>\n",
       "    </tr>\n",
       "    <tr>\n",
       "      <th>3</th>\n",
       "      <td>4</td>\n",
       "      <td>Afghanistan</td>\n",
       "      <td>2015</td>\n",
       "      <td>Consumer price index: General</td>\n",
       "      <td>132.1</td>\n",
       "    </tr>\n",
       "    <tr>\n",
       "      <th>4</th>\n",
       "      <td>4</td>\n",
       "      <td>Afghanistan</td>\n",
       "      <td>2016</td>\n",
       "      <td>Consumer price index: General</td>\n",
       "      <td>137.9</td>\n",
       "    </tr>\n",
       "  </tbody>\n",
       "</table>\n",
       "</div>"
      ],
      "text/plain": [
       "   ID      Country  Year                         Series  Value\n",
       "0   4  Afghanistan  2005  Consumer price index: General   71.1\n",
       "1   4  Afghanistan  2010  Consumer price index: General  100.0\n",
       "2   4  Afghanistan  2014  Consumer price index: General  133.1\n",
       "3   4  Afghanistan  2015  Consumer price index: General  132.1\n",
       "4   4  Afghanistan  2016  Consumer price index: General  137.9"
      ]
     },
     "execution_count": 3,
     "metadata": {},
     "output_type": "execute_result"
    }
   ],
   "source": [
    "CPI = pd.read_csv(\"Consumer_Price_Index.csv\", encoding =\"ISO-8859-1\")\n",
    "CPI.Series.unique()  # to extra certain rows\n",
    "CPI = CPI.loc[CPI.Series == 'Consumer price index: General']\n",
    "countries = CPI.Country.unique()\n",
    "CPI.head()"
   ]
  },
  {
   "cell_type": "code",
   "execution_count": 4,
   "metadata": {},
   "outputs": [
    {
     "data": {
      "text/html": [
       "<div>\n",
       "<style>\n",
       "    .dataframe thead tr:only-child th {\n",
       "        text-align: right;\n",
       "    }\n",
       "\n",
       "    .dataframe thead th {\n",
       "        text-align: left;\n",
       "    }\n",
       "\n",
       "    .dataframe tbody tr th {\n",
       "        vertical-align: top;\n",
       "    }\n",
       "</style>\n",
       "<table border=\"1\" class=\"dataframe\">\n",
       "  <thead>\n",
       "    <tr style=\"text-align: right;\">\n",
       "      <th></th>\n",
       "      <th>ID</th>\n",
       "      <th>Country</th>\n",
       "      <th>Year</th>\n",
       "      <th>Series</th>\n",
       "      <th>Value</th>\n",
       "    </tr>\n",
       "  </thead>\n",
       "  <tbody>\n",
       "    <tr>\n",
       "      <th>0</th>\n",
       "      <td>4</td>\n",
       "      <td>Afghanistan</td>\n",
       "      <td>2005</td>\n",
       "      <td>Current health expenditure (% of GDP)</td>\n",
       "      <td>9.9</td>\n",
       "    </tr>\n",
       "    <tr>\n",
       "      <th>1</th>\n",
       "      <td>4</td>\n",
       "      <td>Afghanistan</td>\n",
       "      <td>2010</td>\n",
       "      <td>Current health expenditure (% of GDP)</td>\n",
       "      <td>8.6</td>\n",
       "    </tr>\n",
       "    <tr>\n",
       "      <th>2</th>\n",
       "      <td>4</td>\n",
       "      <td>Afghanistan</td>\n",
       "      <td>2013</td>\n",
       "      <td>Current health expenditure (% of GDP)</td>\n",
       "      <td>8.8</td>\n",
       "    </tr>\n",
       "    <tr>\n",
       "      <th>3</th>\n",
       "      <td>4</td>\n",
       "      <td>Afghanistan</td>\n",
       "      <td>2014</td>\n",
       "      <td>Current health expenditure (% of GDP)</td>\n",
       "      <td>9.7</td>\n",
       "    </tr>\n",
       "    <tr>\n",
       "      <th>4</th>\n",
       "      <td>4</td>\n",
       "      <td>Afghanistan</td>\n",
       "      <td>2015</td>\n",
       "      <td>Current health expenditure (% of GDP)</td>\n",
       "      <td>10.3</td>\n",
       "    </tr>\n",
       "  </tbody>\n",
       "</table>\n",
       "</div>"
      ],
      "text/plain": [
       "   ID      Country  Year                                 Series  Value\n",
       "0   4  Afghanistan  2005  Current health expenditure (% of GDP)    9.9\n",
       "1   4  Afghanistan  2010  Current health expenditure (% of GDP)    8.6\n",
       "2   4  Afghanistan  2013  Current health expenditure (% of GDP)    8.8\n",
       "3   4  Afghanistan  2014  Current health expenditure (% of GDP)    9.7\n",
       "4   4  Afghanistan  2015  Current health expenditure (% of GDP)   10.3"
      ]
     },
     "execution_count": 4,
     "metadata": {},
     "output_type": "execute_result"
    }
   ],
   "source": [
    "health = pd.read_csv(\"Expenditure_on_Health.csv\", encoding =\"ISO-8859-1\")\n",
    "health = health.loc[health.Series == 'Current health expenditure (% of GDP)']\n",
    "health.head()"
   ]
  },
  {
   "cell_type": "code",
   "execution_count": 5,
   "metadata": {
    "collapsed": true
   },
   "outputs": [],
   "source": [
    "GDP = pd.read_csv(\"GDP_and_GDP_Per_Capita.csv\", encoding =\"ISO-8859-1\")\n",
    "gdp = GDP.loc[GDP.Series == \"GDP per capita (US dollars)\"]"
   ]
  },
  {
   "cell_type": "code",
   "execution_count": 6,
   "metadata": {
    "collapsed": true
   },
   "outputs": [],
   "source": [
    "energy = pd.read_csv(\"Production_Trade_and_Supply_of_Energy.csv\", encoding =\"ISO-8859-1\" )\n",
    "energy = energy.loc[energy.Series == \"Primary energy production (petajoules)\"]"
   ]
  },
  {
   "cell_type": "code",
   "execution_count": 7,
   "metadata": {
    "collapsed": true
   },
   "outputs": [],
   "source": [
    "internet = pd.read_csv(\"Internet_Usage.csv\", encoding =\"ISO-8859-1\" )"
   ]
  },
  {
   "cell_type": "code",
   "execution_count": 8,
   "metadata": {
    "collapsed": true
   },
   "outputs": [],
   "source": [
    "education = pd.read_csv(\"Public_Expenditure_on_Education.csv\", encoding =\"ISO-8859-1\" )\n",
    "education.loc[education.Series == 'Current expenditure other than staff compensation as % of total expenditure in public institutions (%)']\n",
    "education = education.loc[education.Series == \"Public expenditure on education (% of government expenditure)\"]"
   ]
  },
  {
   "cell_type": "code",
   "execution_count": 9,
   "metadata": {
    "collapsed": true
   },
   "outputs": [],
   "source": [
    "tourism = pd.read_csv(\"Tourist_Visitors_Arrival_and_Expenditure.csv\", encoding =\"ISO-8859-1\" )\n",
    "tourism = tourism.loc[tourism.Series == \"Tourism expenditure (millions of US dollars)\"]"
   ]
  },
  {
   "cell_type": "code",
   "execution_count": 10,
   "metadata": {
    "collapsed": true
   },
   "outputs": [],
   "source": [
    "technology = pd.read_csv(\"GDP_on_R&D.csv\", encoding =\"ISO-8859-1\" )\n",
    "tech = technology.loc[technology.Series == 'Gross domestic expenditure on R & D: as a percentage of GDP (%)']"
   ]
  },
  {
   "cell_type": "code",
   "execution_count": 11,
   "metadata": {
    "collapsed": true
   },
   "outputs": [],
   "source": [
    "rates = pd.read_csv(\"Exchange_Rates.csv\", encoding =\"ISO-8859-1\" )\n",
    "rates = rates.loc[rates.Series == \"Exchange rates: period average (national currency per US dollar)\"]"
   ]
  },
  {
   "cell_type": "code",
   "execution_count": 12,
   "metadata": {},
   "outputs": [
    {
     "data": {
      "text/html": [
       "<div>\n",
       "<style>\n",
       "    .dataframe thead tr:only-child th {\n",
       "        text-align: right;\n",
       "    }\n",
       "\n",
       "    .dataframe thead th {\n",
       "        text-align: left;\n",
       "    }\n",
       "\n",
       "    .dataframe tbody tr th {\n",
       "        vertical-align: top;\n",
       "    }\n",
       "</style>\n",
       "<table border=\"1\" class=\"dataframe\">\n",
       "  <thead>\n",
       "    <tr style=\"text-align: right;\">\n",
       "      <th>Country</th>\n",
       "      <th>Afghanistan</th>\n",
       "      <th>Albania</th>\n",
       "      <th>Algeria</th>\n",
       "      <th>Andorra</th>\n",
       "      <th>Angola</th>\n",
       "      <th>Anguilla</th>\n",
       "      <th>Antigua and Barbuda</th>\n",
       "      <th>Argentina</th>\n",
       "      <th>Armenia</th>\n",
       "      <th>Aruba</th>\n",
       "      <th>...</th>\n",
       "      <th>United States of America</th>\n",
       "      <th>Uruguay</th>\n",
       "      <th>Uzbekistan</th>\n",
       "      <th>Vanuatu</th>\n",
       "      <th>Venezuela (Boliv. Rep. of)</th>\n",
       "      <th>Viet Nam</th>\n",
       "      <th>Yemen</th>\n",
       "      <th>Zambia</th>\n",
       "      <th>Zanzibar</th>\n",
       "      <th>Zimbabwe</th>\n",
       "    </tr>\n",
       "    <tr>\n",
       "      <th>Year</th>\n",
       "      <th></th>\n",
       "      <th></th>\n",
       "      <th></th>\n",
       "      <th></th>\n",
       "      <th></th>\n",
       "      <th></th>\n",
       "      <th></th>\n",
       "      <th></th>\n",
       "      <th></th>\n",
       "      <th></th>\n",
       "      <th></th>\n",
       "      <th></th>\n",
       "      <th></th>\n",
       "      <th></th>\n",
       "      <th></th>\n",
       "      <th></th>\n",
       "      <th></th>\n",
       "      <th></th>\n",
       "      <th></th>\n",
       "      <th></th>\n",
       "      <th></th>\n",
       "    </tr>\n",
       "  </thead>\n",
       "  <tbody>\n",
       "    <tr>\n",
       "      <th>1985</th>\n",
       "      <td>282.0</td>\n",
       "      <td>783.0</td>\n",
       "      <td>2564.0</td>\n",
       "      <td>9837.0</td>\n",
       "      <td>859.0</td>\n",
       "      <td>4072.0</td>\n",
       "      <td>3508.0</td>\n",
       "      <td>3144.0</td>\n",
       "      <td>NaN</td>\n",
       "      <td>6108.0</td>\n",
       "      <td>...</td>\n",
       "      <td>18017.0</td>\n",
       "      <td>1735.0</td>\n",
       "      <td>NaN</td>\n",
       "      <td>1020.0</td>\n",
       "      <td>3425.0</td>\n",
       "      <td>79.0</td>\n",
       "      <td>NaN</td>\n",
       "      <td>399.0</td>\n",
       "      <td>NaN</td>\n",
       "      <td>872.0</td>\n",
       "    </tr>\n",
       "    <tr>\n",
       "      <th>1995</th>\n",
       "      <td>189.0</td>\n",
       "      <td>770.0</td>\n",
       "      <td>1452.0</td>\n",
       "      <td>23359.0</td>\n",
       "      <td>466.0</td>\n",
       "      <td>10583.0</td>\n",
       "      <td>7841.0</td>\n",
       "      <td>7993.0</td>\n",
       "      <td>426.0</td>\n",
       "      <td>16442.0</td>\n",
       "      <td>...</td>\n",
       "      <td>28758.0</td>\n",
       "      <td>6609.0</td>\n",
       "      <td>589.0</td>\n",
       "      <td>1621.0</td>\n",
       "      <td>3375.0</td>\n",
       "      <td>276.0</td>\n",
       "      <td>387.0</td>\n",
       "      <td>417.0</td>\n",
       "      <td>235.0</td>\n",
       "      <td>846.0</td>\n",
       "    </tr>\n",
       "    <tr>\n",
       "      <th>2005</th>\n",
       "      <td>264.0</td>\n",
       "      <td>2615.0</td>\n",
       "      <td>3100.0</td>\n",
       "      <td>41281.0</td>\n",
       "      <td>1891.0</td>\n",
       "      <td>18129.0</td>\n",
       "      <td>11453.0</td>\n",
       "      <td>5125.0</td>\n",
       "      <td>1753.0</td>\n",
       "      <td>23303.0</td>\n",
       "      <td>...</td>\n",
       "      <td>44173.0</td>\n",
       "      <td>5221.0</td>\n",
       "      <td>543.0</td>\n",
       "      <td>1886.0</td>\n",
       "      <td>5433.0</td>\n",
       "      <td>684.0</td>\n",
       "      <td>925.0</td>\n",
       "      <td>691.0</td>\n",
       "      <td>408.0</td>\n",
       "      <td>481.0</td>\n",
       "    </tr>\n",
       "    <tr>\n",
       "      <th>2010</th>\n",
       "      <td>558.0</td>\n",
       "      <td>4056.0</td>\n",
       "      <td>4463.0</td>\n",
       "      <td>39734.0</td>\n",
       "      <td>3586.0</td>\n",
       "      <td>19459.0</td>\n",
       "      <td>12175.0</td>\n",
       "      <td>10346.0</td>\n",
       "      <td>3432.0</td>\n",
       "      <td>23513.0</td>\n",
       "      <td>...</td>\n",
       "      <td>48574.0</td>\n",
       "      <td>11938.0</td>\n",
       "      <td>1382.0</td>\n",
       "      <td>2966.0</td>\n",
       "      <td>13566.0</td>\n",
       "      <td>1310.0</td>\n",
       "      <td>1309.0</td>\n",
       "      <td>1463.0</td>\n",
       "      <td>587.0</td>\n",
       "      <td>720.0</td>\n",
       "    </tr>\n",
       "    <tr>\n",
       "      <th>2015</th>\n",
       "      <td>611.0</td>\n",
       "      <td>3895.0</td>\n",
       "      <td>4163.0</td>\n",
       "      <td>36040.0</td>\n",
       "      <td>4171.0</td>\n",
       "      <td>22622.0</td>\n",
       "      <td>13602.0</td>\n",
       "      <td>14853.0</td>\n",
       "      <td>3618.0</td>\n",
       "      <td>25796.0</td>\n",
       "      <td>...</td>\n",
       "      <td>56948.0</td>\n",
       "      <td>15525.0</td>\n",
       "      <td>2160.0</td>\n",
       "      <td>2871.0</td>\n",
       "      <td>11054.0</td>\n",
       "      <td>2065.0</td>\n",
       "      <td>990.0</td>\n",
       "      <td>1319.0</td>\n",
       "      <td>795.0</td>\n",
       "      <td>1033.0</td>\n",
       "    </tr>\n",
       "  </tbody>\n",
       "</table>\n",
       "<p>5 rows × 214 columns</p>\n",
       "</div>"
      ],
      "text/plain": [
       "Country  Afghanistan  Albania  Algeria  Andorra  Angola  Anguilla  \\\n",
       "Year                                                                \n",
       "1985           282.0    783.0   2564.0   9837.0   859.0    4072.0   \n",
       "1995           189.0    770.0   1452.0  23359.0   466.0   10583.0   \n",
       "2005           264.0   2615.0   3100.0  41281.0  1891.0   18129.0   \n",
       "2010           558.0   4056.0   4463.0  39734.0  3586.0   19459.0   \n",
       "2015           611.0   3895.0   4163.0  36040.0  4171.0   22622.0   \n",
       "\n",
       "Country  Antigua and Barbuda  Argentina  Armenia    Aruba    ...     \\\n",
       "Year                                                         ...      \n",
       "1985                  3508.0     3144.0      NaN   6108.0    ...      \n",
       "1995                  7841.0     7993.0    426.0  16442.0    ...      \n",
       "2005                 11453.0     5125.0   1753.0  23303.0    ...      \n",
       "2010                 12175.0    10346.0   3432.0  23513.0    ...      \n",
       "2015                 13602.0    14853.0   3618.0  25796.0    ...      \n",
       "\n",
       "Country  United States of America  Uruguay  Uzbekistan  Vanuatu  \\\n",
       "Year                                                              \n",
       "1985                      18017.0   1735.0         NaN   1020.0   \n",
       "1995                      28758.0   6609.0       589.0   1621.0   \n",
       "2005                      44173.0   5221.0       543.0   1886.0   \n",
       "2010                      48574.0  11938.0      1382.0   2966.0   \n",
       "2015                      56948.0  15525.0      2160.0   2871.0   \n",
       "\n",
       "Country  Venezuela (Boliv. Rep. of)  Viet Nam   Yemen  Zambia  Zanzibar  \\\n",
       "Year                                                                      \n",
       "1985                         3425.0      79.0     NaN   399.0       NaN   \n",
       "1995                         3375.0     276.0   387.0   417.0     235.0   \n",
       "2005                         5433.0     684.0   925.0   691.0     408.0   \n",
       "2010                        13566.0    1310.0  1309.0  1463.0     587.0   \n",
       "2015                        11054.0    2065.0   990.0  1319.0     795.0   \n",
       "\n",
       "Country  Zimbabwe  \n",
       "Year               \n",
       "1985        872.0  \n",
       "1995        846.0  \n",
       "2005        481.0  \n",
       "2010        720.0  \n",
       "2015       1033.0  \n",
       "\n",
       "[5 rows x 214 columns]"
      ]
     },
     "execution_count": 12,
     "metadata": {},
     "output_type": "execute_result"
    }
   ],
   "source": [
    "gdp.pivot(index = \"Year\", columns = \"Country\", values = \"Value\").head()"
   ]
  },
  {
   "cell_type": "code",
   "execution_count": 13,
   "metadata": {
    "collapsed": true
   },
   "outputs": [],
   "source": [
    "CPI = CPI.pivot(index = \"Year\", columns = \"Country\", values = \"Value\")\n",
    "GDP = gdp.pivot(index = \"Year\", columns = \"Country\", values = \"Value\")\n",
    "energy = energy.pivot(index = \"Year\", columns = \"Country\", values = \"Value\")\n",
    "health = health.pivot(index = \"Year\", columns = \"Country\", values = \"Value\")\n",
    "education = education.pivot(index = \"Year\", columns = \"Country\", values = \"Value\")\n",
    "tech = tech.pivot(index = \"Year\", columns = \"Country\", values = \"Value\")\n",
    "internet = internet.pivot(index = \"Year\", columns = \"Country\", values = \"Value\")\n",
    "rates = rates.pivot(index = \"Year\", columns = \"Country\", values = \"Value\")\n",
    "tourism = tourism.pivot(index = \"Year\", columns = \"Country\", values = \"Value\")"
   ]
  },
  {
   "cell_type": "code",
   "execution_count": 14,
   "metadata": {
    "collapsed": true,
    "scrolled": false
   },
   "outputs": [],
   "source": [
    "name = 'United States of America'\n",
    "table1 = pd.DataFrame(CPI.loc[:, name])\n",
    "table1 = pd.concat([table1, pd.DataFrame(GDP.loc[:, name]), pd.DataFrame(energy.loc[:, name]), pd.DataFrame(tech.loc[:, name]), pd.DataFrame(internet.loc[:, name]), pd.DataFrame(tourism.loc[:, name]), pd.DataFrame(health.loc[:, name])], keys = [\"Energy\", \"Tech\", \"Education\", \"Internet\", \"Tourism\", \"Health\"])\n",
    "table1 = table1.swaplevel().unstack()\n",
    "table1.fillna(method = \"ffill\", inplace = True)\n",
    "table1.fillna(method = \"bfill\", inplace = True)"
   ]
  },
  {
   "cell_type": "code",
   "execution_count": 15,
   "metadata": {
    "collapsed": true,
    "scrolled": true
   },
   "outputs": [],
   "source": [
    "name = 'China'\n",
    "table2 = pd.DataFrame(CPI.loc[:, name])\n",
    "table2 = pd.concat([table2, pd.DataFrame(GDP.loc[:, name]), pd.DataFrame(energy.loc[:, name]), pd.DataFrame(tech.loc[:, name]), pd.DataFrame(rates.loc[:, name]), pd.DataFrame(internet.loc[:, name]), pd.DataFrame(tourism.loc[:, name]), pd.DataFrame(health.loc[:, name])], keys = [\"Energy\", \"Tech\", \"Rates\", \"Internet\", \"Tourism\", \"Health\"])\n",
    "table2 = table2.swaplevel().unstack()\n",
    "table2.fillna(method = \"ffill\", inplace = True)\n",
    "table2.fillna(method = \"bfill\", inplace = True)"
   ]
  },
  {
   "cell_type": "markdown",
   "metadata": {},
   "source": [
    "## 4. Exploratory Data Analysis:"
   ]
  },
  {
   "cell_type": "code",
   "execution_count": 16,
   "metadata": {
    "collapsed": true
   },
   "outputs": [],
   "source": [
    "# data clean up:\n",
    "rates[\"United States of America\"] = 1.0\n",
    "education[\"China\"] = 0\n",
    "CPI[\"China\"].loc[CPI[\"China\"].index == 2016] = CPI[\"China\"].loc[CPI[\"China\"].index == 2015].iloc[0] * CPI[\"China\"].loc[CPI[\"China\"].index == 2016].iloc[0] / 100\n",
    "CPI[\"China\"].loc[CPI[\"China\"].index == 2017] = CPI[\"China\"].loc[CPI[\"China\"].index == 2015].iloc[0]  * CPI[\"China\"].loc[CPI[\"China\"].index == 2017].iloc[0] / 100\n",
    "years = CPI.index\n",
    "# since CPI = 100 for year 2010 (base year)\n",
    "years = [1995, 2005, 2014, 2015, 2016, 2017]"
   ]
  },
  {
   "cell_type": "code",
   "execution_count": 17,
   "metadata": {
    "collapsed": true,
    "scrolled": true
   },
   "outputs": [],
   "source": [
    "# G7 countires: United States of America, Germany, France, Japan, Canada, United Kingdon and Italy\n",
    "# BRICS countires: Brazil, Russian Federation, India, China and South Africa\n",
    "G7 = [\"United States of America\", \"Germany\", \"France\", \"Japan\", \"Canada\", \"United Kingdom\", \"Italy\"]\n",
    "BRICS = [\"Brazil\", \"Russian Federation\", \"India\", \"China\", \"South Africa\"]\n",
    "df1 = pd.DataFrame()\n",
    "for name in G7: \n",
    "    table = pd.DataFrame(CPI.loc[years, name])\n",
    "    table = pd.concat([table, pd.DataFrame(GDP.loc[years, name]), pd.DataFrame(energy.loc[years, name]), pd.DataFrame(tech.loc[years, name]), pd.DataFrame(education.loc[years, name]), pd.DataFrame(rates.loc[years, name]), pd.DataFrame(internet.loc[years, name]), pd.DataFrame(tourism.loc[years, name]), pd.DataFrame(health.loc[years, name])], keys = [\"CPI\", \"GDP\", \"Energy\", \"Tech\", \"Education\", \"Rates\", \"Internet\", \"Tourism\", \"Health\"])\n",
    "    table = table.swaplevel().unstack()\n",
    "    table.fillna(method = \"ffill\", inplace = True)\n",
    "    table.fillna(method = \"bfill\", inplace = True)\n",
    "    df1 = pd.concat([df1, table], axis = 1)\n",
    "    \n",
    "df2 = pd.DataFrame()\n",
    "for name in BRICS: \n",
    "    table = pd.DataFrame(CPI.loc[years, name])\n",
    "    table = pd.concat([table, pd.DataFrame(GDP.loc[years, name]), pd.DataFrame(energy.loc[years, name]), pd.DataFrame(tech.loc[years, name]), pd.DataFrame(education.loc[years, name]), pd.DataFrame(rates.loc[years, name]), pd.DataFrame(internet.loc[years, name]), pd.DataFrame(tourism.loc[years, name]), pd.DataFrame(health.loc[years, name])], keys = [\"CPI\", \"GDP\", \"Energy\", \"Tech\", \"Education\", \"Rates\", \"Internet\", \"Tourism\", \"Health\"])\n",
    "    table = table.swaplevel().unstack()\n",
    "    table.fillna(method = \"ffill\", inplace = True)\n",
    "    table.fillna(method = \"bfill\", inplace = True)\n",
    "    df2 = pd.concat([df2, table], axis = 1)\n",
    "    \n",
    "df1.fillna(0, inplace = True)\n",
    "df2.fillna(0, inplace = True)"
   ]
  },
  {
   "cell_type": "code",
   "execution_count": 18,
   "metadata": {},
   "outputs": [
    {
     "data": {
      "image/png": "[encoded data removed]",
      "text/plain": [
       "<matplotlib.figure.Figure at 0x1148edd8>"
      ]
     },
     "metadata": {},
     "output_type": "display_data"
    }
   ],
   "source": [
    "# G7 countries:\n",
    "plt.figure(figsize = (15, 15))\n",
    "plt.subplots_adjust(bottom = 0.5, right = 1, top = 1.2, hspace = 0.5)\n",
    "for i in range(1, 8):\n",
    "    plt.subplot(3, 3, i)\n",
    "    corr = df1[G7[i - 1]].corr()\n",
    "    sns.heatmap(corr, xticklabels = corr.columns.values, yticklabels = corr.columns.values)\n",
    "    plt.title(G7[i - 1])\n",
    "plt.show()"
   ]
  },
  {
   "cell_type": "code",
   "execution_count": 19,
   "metadata": {},
   "outputs": [
    {
     "data": {
      "image/png": "[encoded data removed]",
      "text/plain": [
       "<matplotlib.figure.Figure at 0x13c516a0>"
      ]
     },
     "metadata": {},
     "output_type": "display_data"
    }
   ],
   "source": [
    "# BRICS countries:\n",
    "plt.figure(figsize = (15, 15))\n",
    "plt.subplots_adjust(bottom = 0.5, right = 1, top = 1, hspace = 0.5)\n",
    "for i in range(1, 6):\n",
    "    plt.subplot(2,3,i)\n",
    "    corr = df2[BRICS[i-1]].corr()\n",
    "    sns.heatmap(corr, xticklabels = corr.columns.values, yticklabels = corr.columns.values)\n",
    "    plt.title(BRICS[i-1])\n",
    "plt.show()"
   ]
  },
  {
   "cell_type": "code",
   "execution_count": 20,
   "metadata": {},
   "outputs": [
    {
     "data": {
      "image/png": "[encoded data removed]",
      "text/plain": [
       "<matplotlib.figure.Figure at 0x1148e518>"
      ]
     },
     "metadata": {},
     "output_type": "display_data"
    }
   ],
   "source": [
    "plt.figure(figsize = (9, 5))\n",
    "for i in range(7):\n",
    "    plt.plot(df1.index, df1[G7[i]].CPI, label = G7[i])\n",
    "    plt.legend()\n",
    "    plt.title(\"CPI vs. year for G7 countries\")\n",
    "plt.show()"
   ]
  },
  {
   "cell_type": "code",
   "execution_count": 21,
   "metadata": {},
   "outputs": [
    {
     "data": {
      "image/png": "[encoded data removed]",
      "text/plain": [
       "<matplotlib.figure.Figure at 0x15875828>"
      ]
     },
     "metadata": {},
     "output_type": "display_data"
    }
   ],
   "source": [
    "plt.figure(figsize = (9, 5))\n",
    "for i in range(7):\n",
    "    plt.plot(df1.index, df1[G7[i]].GDP, label = G7[i])\n",
    "    plt.legend()\n",
    "    plt.title(\"GPD vs. year for G7 countries\")\n",
    "plt.show()"
   ]
  },
  {
   "cell_type": "code",
   "execution_count": 22,
   "metadata": {},
   "outputs": [
    {
     "data": {
      "image/png": "[encoded data removed]",
      "text/plain": [
       "<matplotlib.figure.Figure at 0x135a2b38>"
      ]
     },
     "metadata": {},
     "output_type": "display_data"
    }
   ],
   "source": [
    "plt.figure(figsize = (9, 5))\n",
    "for i in range(5):\n",
    "    plt.plot(df2.index, df2[BRICS[i]].CPI, label = BRICS[i])\n",
    "    plt.legend()\n",
    "    plt.title(\"CPI vs. year for BRICS countries\")\n",
    "plt.show()"
   ]
  },
  {
   "cell_type": "code",
   "execution_count": 23,
   "metadata": {},
   "outputs": [
    {
     "data": {
      "image/png": "[encoded data removed]",
      "text/plain": [
       "<matplotlib.figure.Figure at 0x13deb668>"
      ]
     },
     "metadata": {},
     "output_type": "display_data"
    }
   ],
   "source": [
    "plt.figure(figsize = (9, 5))\n",
    "for i in range(5):\n",
    "    plt.plot(df2.index, df2[BRICS[i]].GDP, label = BRICS[i])\n",
    "    plt.legend()\n",
    "    plt.title(\"GPD vs. year for BRICS countries\")\n",
    "plt.show()"
   ]
  },
  {
   "cell_type": "code",
   "execution_count": 24,
   "metadata": {
    "scrolled": true
   },
   "outputs": [
    {
     "data": {
      "image/png": "[encoded data removed]",
      "text/plain": [
       "<matplotlib.figure.Figure at 0x13f58860>"
      ]
     },
     "metadata": {},
     "output_type": "display_data"
    }
   ],
   "source": [
    "plt.figure(figsize = (9, 5))\n",
    "colors = [\"b\",\"g\",\"m\",\"r\",\"c\",\"y\",\"p\"]\n",
    "for i in range(5):\n",
    "    plt.scatter(df2[BRICS[i]].GDP, df2[BRICS[i]].CPI, label = BRICS[i])\n",
    "    plt.legend()\n",
    "    plt.title(\"CPI vs. GPD for G7 countries\")\n",
    "plt.show()"
   ]
  },
  {
   "cell_type": "code",
   "execution_count": 25,
   "metadata": {},
   "outputs": [
    {
     "data": {
      "image/png": "[encoded data removed]",
      "text/plain": [
       "<matplotlib.figure.Figure at 0x114912b0>"
      ]
     },
     "metadata": {},
     "output_type": "display_data"
    }
   ],
   "source": [
    "sns.lmplot(\"CPI\", \"GDP\", data = df2[BRICS[0]])\n",
    "plt.show()"
   ]
  },
  {
   "cell_type": "code",
   "execution_count": 26,
   "metadata": {},
   "outputs": [
    {
     "data": {
      "text/plain": [
       "<matplotlib.figure.Figure at 0x13f59978>"
      ]
     },
     "metadata": {},
     "output_type": "display_data"
    },
    {
     "data": {
      "image/png": "[encoded data removed]",
      "text/plain": [
       "<matplotlib.figure.Figure at 0x158b5710>"
      ]
     },
     "metadata": {},
     "output_type": "display_data"
    },
    {
     "data": {
      "image/png": "[encoded data removed]",
      "text/plain": [
       "<matplotlib.figure.Figure at 0x135f3c88>"
      ]
     },
     "metadata": {},
     "output_type": "display_data"
    },
    {
     "data": {
      "image/png": "[encoded data removed]",
      "text/plain": [
       "<matplotlib.figure.Figure at 0x13a4d668>"
      ]
     },
     "metadata": {},
     "output_type": "display_data"
    },
    {
     "data": {
      "image/png": "[encoded data removed]",
      "text/plain": [
       "<matplotlib.figure.Figure at 0x158b92e8>"
      ]
     },
     "metadata": {},
     "output_type": "display_data"
    },
    {
     "data": {
      "image/png": "[encoded data removed]",
      "text/plain": [
       "<matplotlib.figure.Figure at 0x155ae198>"
      ]
     },
     "metadata": {},
     "output_type": "display_data"
    }
   ],
   "source": [
    "plt.figure(figsize = (9, 5))\n",
    "colors = [\"b\",\"g\",\"m\",\"r\",\"c\",\"y\",\"p\"]\n",
    "for i in range(5):\n",
    "    # plt.subplot(2,3,i+1)\n",
    "    sns.lmplot(\"CPI\", \"GDP\", data = df2[BRICS[i]])\n",
    "    plt.title(BRICS[i])\n",
    "plt.show()"
   ]
  },
  {
   "cell_type": "code",
   "execution_count": 27,
   "metadata": {
    "collapsed": true,
    "scrolled": true
   },
   "outputs": [],
   "source": [
    "df1 = pd.concat([CPI.stack().loc[list(years), \"Italy\"], GDP.stack().loc[list(years), \"Italy\"], health.stack().loc[list(years), \"Italy\"]], axis = 1, keys = [\"CPI\", \"GDP\", \"health\"])"
   ]
  },
  {
   "cell_type": "code",
   "execution_count": 28,
   "metadata": {
    "collapsed": true,
    "scrolled": false
   },
   "outputs": [],
   "source": [
    "# Final dataframe for modeling:\n",
    "G7 = [\"United States of America\", \"Germany\", \"France\", \"Japan\", \"Canada\", \"United Kingdom\", \"Italy\"]\n",
    "BRICS = [\"Brazil\", \"Russian Federation\", \"India\", \"China\", \"South Africa\"]\n",
    "df1 = pd.DataFrame()\n",
    "for name in G7: \n",
    "    table = pd.DataFrame(CPI.stack().loc[list(years), name])\n",
    "    table = pd.concat([table, pd.DataFrame(GDP.stack().loc[list(years), name]), pd.DataFrame(energy.stack().loc[list(years), name]), pd.DataFrame(tech.stack().loc[list(years), name]), \n",
    "                       pd.DataFrame(education.stack().loc[list(years), name]), pd.DataFrame(rates.stack().loc[list(years), name]), pd.DataFrame(internet.stack().loc[list(years), name]), pd.DataFrame(tourism.stack().loc[list(years), name]),\n",
    "                       pd.DataFrame(health.stack().loc[list(years), name])], keys = [\"CPI\", \"GDP\", \"Energy\", \"Tech\", \"Education\", \"Rates\", \"Internet\", \"Tourism\", \"Health\"],\n",
    "                     axis = 1)\n",
    "    table.fillna(method = \"ffill\", inplace = True)\n",
    "    table.fillna(method = \"bfill\", inplace = True)\n",
    "    df1 = pd.concat([df1, table])\n",
    "    \n",
    "df2 = pd.DataFrame()\n",
    "for name in BRICS: \n",
    "    table = pd.DataFrame(CPI.stack().loc[list(years), name])\n",
    "    table = pd.concat([table, pd.DataFrame(GDP.stack().loc[list(years), name]), pd.DataFrame(energy.stack().loc[list(years), name]), pd.DataFrame(tech.stack().loc[list(years), name]), \n",
    "                       pd.DataFrame(education.stack().loc[list(years), name]), pd.DataFrame(rates.stack().loc[list(years), name]), pd.DataFrame(internet.stack().loc[list(years), name]), pd.DataFrame(tourism.stack().loc[list(years), name]),\n",
    "                       pd.DataFrame(health.stack().loc[list(years), name])], keys = [\"CPI\", \"GDP\", \"Energy\", \"Tech\", \"Education\", \"Rates\", \"Internet\", \"Tourism\", \"Health\"],\n",
    "                     axis = 1)\n",
    "    table.fillna(method = \"ffill\", inplace = True)\n",
    "    table.fillna(method = \"bfill\", inplace = True)\n",
    "    df2 = pd.concat([df2, table])\n",
    "    \n",
    "df1.fillna(0, inplace = True)\n",
    "df2.fillna(0, inplace = True)\n",
    "\n",
    "df1.columns = df1.columns.droplevel(1)\n",
    "df1[\"Country\"] = df1.index.get_level_values(1)\n",
    "df1.index = df1.index.droplevel(1)\n",
    "df2.columns = df2.columns.droplevel(1)\n",
    "df2[\"Country\"] = df2.index.get_level_values(1)\n",
    "df2.index = df2.index.droplevel(1)"
   ]
  },
  {
   "cell_type": "code",
   "execution_count": 29,
   "metadata": {},
   "outputs": [
    {
     "data": {
      "text/html": [
       "<div>\n",
       "<style>\n",
       "    .dataframe thead tr:only-child th {\n",
       "        text-align: right;\n",
       "    }\n",
       "\n",
       "    .dataframe thead th {\n",
       "        text-align: left;\n",
       "    }\n",
       "\n",
       "    .dataframe tbody tr th {\n",
       "        vertical-align: top;\n",
       "    }\n",
       "</style>\n",
       "<table border=\"1\" class=\"dataframe\">\n",
       "  <thead>\n",
       "    <tr style=\"text-align: right;\">\n",
       "      <th></th>\n",
       "      <th>CPI</th>\n",
       "      <th>GDP</th>\n",
       "      <th>Energy</th>\n",
       "      <th>Tech</th>\n",
       "      <th>Education</th>\n",
       "      <th>Rates</th>\n",
       "      <th>Internet</th>\n",
       "      <th>Tourism</th>\n",
       "      <th>Health</th>\n",
       "      <th>Country</th>\n",
       "      <th>Country_code</th>\n",
       "    </tr>\n",
       "    <tr>\n",
       "      <th>Year</th>\n",
       "      <th></th>\n",
       "      <th></th>\n",
       "      <th></th>\n",
       "      <th></th>\n",
       "      <th></th>\n",
       "      <th></th>\n",
       "      <th></th>\n",
       "      <th></th>\n",
       "      <th></th>\n",
       "      <th></th>\n",
       "      <th></th>\n",
       "    </tr>\n",
       "  </thead>\n",
       "  <tbody>\n",
       "    <tr>\n",
       "      <th>1995</th>\n",
       "      <td>69.9</td>\n",
       "      <td>28758.0</td>\n",
       "      <td>68963.0</td>\n",
       "      <td>2.5</td>\n",
       "      <td>13.5</td>\n",
       "      <td>1</td>\n",
       "      <td>68.0</td>\n",
       "      <td>93743.0</td>\n",
       "      <td>14.5</td>\n",
       "      <td>United States of America</td>\n",
       "      <td>1</td>\n",
       "    </tr>\n",
       "    <tr>\n",
       "      <th>2005</th>\n",
       "      <td>89.6</td>\n",
       "      <td>44173.0</td>\n",
       "      <td>68124.0</td>\n",
       "      <td>2.5</td>\n",
       "      <td>13.5</td>\n",
       "      <td>1</td>\n",
       "      <td>68.0</td>\n",
       "      <td>122077.0</td>\n",
       "      <td>14.5</td>\n",
       "      <td>United States of America</td>\n",
       "      <td>1</td>\n",
       "    </tr>\n",
       "    <tr>\n",
       "      <th>2014</th>\n",
       "      <td>108.6</td>\n",
       "      <td>44173.0</td>\n",
       "      <td>83426.0</td>\n",
       "      <td>2.5</td>\n",
       "      <td>13.5</td>\n",
       "      <td>1</td>\n",
       "      <td>73.0</td>\n",
       "      <td>122077.0</td>\n",
       "      <td>16.5</td>\n",
       "      <td>United States of America</td>\n",
       "      <td>1</td>\n",
       "    </tr>\n",
       "    <tr>\n",
       "      <th>2015</th>\n",
       "      <td>108.7</td>\n",
       "      <td>56948.0</td>\n",
       "      <td>84051.0</td>\n",
       "      <td>2.5</td>\n",
       "      <td>13.5</td>\n",
       "      <td>1</td>\n",
       "      <td>74.6</td>\n",
       "      <td>249183.0</td>\n",
       "      <td>16.8</td>\n",
       "      <td>United States of America</td>\n",
       "      <td>1</td>\n",
       "    </tr>\n",
       "    <tr>\n",
       "      <th>2016</th>\n",
       "      <td>110.1</td>\n",
       "      <td>58064.0</td>\n",
       "      <td>79672.0</td>\n",
       "      <td>2.7</td>\n",
       "      <td>13.5</td>\n",
       "      <td>1</td>\n",
       "      <td>75.2</td>\n",
       "      <td>246172.0</td>\n",
       "      <td>16.8</td>\n",
       "      <td>United States of America</td>\n",
       "      <td>1</td>\n",
       "    </tr>\n",
       "  </tbody>\n",
       "</table>\n",
       "</div>"
      ],
      "text/plain": [
       "        CPI      GDP   Energy  Tech  Education Rates  Internet   Tourism  \\\n",
       "Year                                                                       \n",
       "1995   69.9  28758.0  68963.0   2.5       13.5     1      68.0   93743.0   \n",
       "2005   89.6  44173.0  68124.0   2.5       13.5     1      68.0  122077.0   \n",
       "2014  108.6  44173.0  83426.0   2.5       13.5     1      73.0  122077.0   \n",
       "2015  108.7  56948.0  84051.0   2.5       13.5     1      74.6  249183.0   \n",
       "2016  110.1  58064.0  79672.0   2.7       13.5     1      75.2  246172.0   \n",
       "\n",
       "      Health                   Country  Country_code  \n",
       "Year                                                  \n",
       "1995    14.5  United States of America             1  \n",
       "2005    14.5  United States of America             1  \n",
       "2014    16.5  United States of America             1  \n",
       "2015    16.8  United States of America             1  \n",
       "2016    16.8  United States of America             1  "
      ]
     },
     "execution_count": 29,
     "metadata": {},
     "output_type": "execute_result"
    }
   ],
   "source": [
    "# adding country_code variable:\n",
    "# G7 countires: United States of America, Germany, France, Japan, Canada, United Kingdon and Italy\n",
    "# BRICS countires: Brazil, Russian Federation, India, China and South Africa\n",
    "code1 = {\"United States of America\" : 1, \"Germany\" : 2, \"France\" : 3, \"Japan\" : 4, \"Canada\" : 5, \n",
    "         \"United Kingdom\" : 6, \"Italy\" : 7}\n",
    "code2 = {\"Brazil\" : 8, \"Russian Federation\" : 9, \"India\" : 10, \"China\" : 11, \"South Africa\" : 12}\n",
    "df1[\"Country_code\"] = [code1[country] for country in df1.Country]\n",
    "df2[\"Country_code\"] = [code2[country] for country in df2.Country]\n",
    "df1.head()"
   ]
  },
  {
   "cell_type": "code",
   "execution_count": 30,
   "metadata": {},
   "outputs": [
    {
     "data": {
      "text/html": [
       "<div>\n",
       "<style>\n",
       "    .dataframe thead tr:only-child th {\n",
       "        text-align: right;\n",
       "    }\n",
       "\n",
       "    .dataframe thead th {\n",
       "        text-align: left;\n",
       "    }\n",
       "\n",
       "    .dataframe tbody tr th {\n",
       "        vertical-align: top;\n",
       "    }\n",
       "</style>\n",
       "<table border=\"1\" class=\"dataframe\">\n",
       "  <thead>\n",
       "    <tr style=\"text-align: right;\">\n",
       "      <th></th>\n",
       "      <th>United States of America</th>\n",
       "      <th>Germany</th>\n",
       "      <th>France</th>\n",
       "      <th>Japan</th>\n",
       "      <th>Canada</th>\n",
       "      <th>United Kingdom</th>\n",
       "      <th>Italy</th>\n",
       "    </tr>\n",
       "  </thead>\n",
       "  <tbody>\n",
       "    <tr>\n",
       "      <th>min</th>\n",
       "      <td>69.9</td>\n",
       "      <td>80.5</td>\n",
       "      <td>79.5</td>\n",
       "      <td>100.4</td>\n",
       "      <td>75.2</td>\n",
       "      <td>87.4</td>\n",
       "      <td>71.6</td>\n",
       "    </tr>\n",
       "    <tr>\n",
       "      <th>max</th>\n",
       "      <td>112.4</td>\n",
       "      <td>109.3</td>\n",
       "      <td>106.8</td>\n",
       "      <td>104.0</td>\n",
       "      <td>112.0</td>\n",
       "      <td>115.6</td>\n",
       "      <td>108.7</td>\n",
       "    </tr>\n",
       "  </tbody>\n",
       "</table>\n",
       "</div>"
      ],
      "text/plain": [
       "     United States of America  Germany  France  Japan  Canada  United Kingdom  \\\n",
       "min                      69.9     80.5    79.5  100.4    75.2            87.4   \n",
       "max                     112.4    109.3   106.8  104.0   112.0           115.6   \n",
       "\n",
       "     Italy  \n",
       "min   71.6  \n",
       "max  108.7  "
      ]
     },
     "execution_count": 30,
     "metadata": {},
     "output_type": "execute_result"
    }
   ],
   "source": [
    "CPI.loc[years, G7].agg([\"min\",\"max\"])"
   ]
  },
  {
   "cell_type": "code",
   "execution_count": 31,
   "metadata": {},
   "outputs": [
    {
     "data": {
      "text/html": [
       "<div>\n",
       "<style>\n",
       "    .dataframe thead tr:only-child th {\n",
       "        text-align: right;\n",
       "    }\n",
       "\n",
       "    .dataframe thead th {\n",
       "        text-align: left;\n",
       "    }\n",
       "\n",
       "    .dataframe tbody tr th {\n",
       "        vertical-align: top;\n",
       "    }\n",
       "</style>\n",
       "<table border=\"1\" class=\"dataframe\">\n",
       "  <thead>\n",
       "    <tr style=\"text-align: right;\">\n",
       "      <th></th>\n",
       "      <th>Brazil</th>\n",
       "      <th>Russian Federation</th>\n",
       "      <th>India</th>\n",
       "      <th>China</th>\n",
       "      <th>South Africa</th>\n",
       "    </tr>\n",
       "  </thead>\n",
       "  <tbody>\n",
       "    <tr>\n",
       "      <th>min</th>\n",
       "      <td>36.6</td>\n",
       "      <td>6.3</td>\n",
       "      <td>37.6</td>\n",
       "      <td>113.2000</td>\n",
       "      <td>43.4</td>\n",
       "    </tr>\n",
       "    <tr>\n",
       "      <th>max</th>\n",
       "      <td>155.7</td>\n",
       "      <td>168.2</td>\n",
       "      <td>160.1</td>\n",
       "      <td>119.0364</td>\n",
       "      <td>146.1</td>\n",
       "    </tr>\n",
       "  </tbody>\n",
       "</table>\n",
       "</div>"
      ],
      "text/plain": [
       "     Brazil  Russian Federation  India     China  South Africa\n",
       "min    36.6                 6.3   37.6  113.2000          43.4\n",
       "max   155.7               168.2  160.1  119.0364         146.1"
      ]
     },
     "execution_count": 31,
     "metadata": {},
     "output_type": "execute_result"
    }
   ],
   "source": [
    "CPI.loc[years, BRICS].agg([\"min\",\"max\"])"
   ]
  },
  {
   "cell_type": "code",
   "execution_count": 32,
   "metadata": {
    "collapsed": true,
    "scrolled": true
   },
   "outputs": [],
   "source": [
    "# adding categorical label for response variable:\n",
    "df1[\"CPI_Level\"] = [4 if var > 150 else 3 if var > 120 else 2 if var > 80 else 1 for var in df1[\"CPI\"]]\n",
    "df2[\"CPI_Level\"] = [4 if var > 150 else 3 if var > 120 else 2 if var > 80 else 1 for var in df2[\"CPI\"]]"
   ]
  },
  {
   "cell_type": "code",
   "execution_count": 33,
   "metadata": {},
   "outputs": [
    {
     "data": {
      "text/html": [
       "<div>\n",
       "<style>\n",
       "    .dataframe thead tr:only-child th {\n",
       "        text-align: right;\n",
       "    }\n",
       "\n",
       "    .dataframe thead th {\n",
       "        text-align: left;\n",
       "    }\n",
       "\n",
       "    .dataframe tbody tr th {\n",
       "        vertical-align: top;\n",
       "    }\n",
       "</style>\n",
       "<table border=\"1\" class=\"dataframe\">\n",
       "  <thead>\n",
       "    <tr style=\"text-align: right;\">\n",
       "      <th></th>\n",
       "      <th>Year</th>\n",
       "      <th>CPI</th>\n",
       "      <th>GDP</th>\n",
       "      <th>Energy</th>\n",
       "      <th>Tech</th>\n",
       "      <th>Education</th>\n",
       "      <th>Rates</th>\n",
       "      <th>Internet</th>\n",
       "      <th>Tourism</th>\n",
       "      <th>Health</th>\n",
       "      <th>Country</th>\n",
       "      <th>Country_code</th>\n",
       "      <th>CPI_Level</th>\n",
       "    </tr>\n",
       "  </thead>\n",
       "  <tbody>\n",
       "    <tr>\n",
       "      <th>0</th>\n",
       "      <td>1995</td>\n",
       "      <td>36.6</td>\n",
       "      <td>4794.0</td>\n",
       "      <td>5038.0</td>\n",
       "      <td>1.0</td>\n",
       "      <td>11.3</td>\n",
       "      <td>0.9</td>\n",
       "      <td>21.0</td>\n",
       "      <td>1085.0</td>\n",
       "      <td>8.0</td>\n",
       "      <td>Brazil</td>\n",
       "      <td>8</td>\n",
       "      <td>1</td>\n",
       "    </tr>\n",
       "    <tr>\n",
       "      <th>1</th>\n",
       "      <td>2005</td>\n",
       "      <td>79.5</td>\n",
       "      <td>4770.0</td>\n",
       "      <td>8344.0</td>\n",
       "      <td>1.0</td>\n",
       "      <td>11.3</td>\n",
       "      <td>2.4</td>\n",
       "      <td>21.0</td>\n",
       "      <td>4168.0</td>\n",
       "      <td>8.0</td>\n",
       "      <td>Brazil</td>\n",
       "      <td>8</td>\n",
       "      <td>1</td>\n",
       "    </tr>\n",
       "    <tr>\n",
       "      <th>2</th>\n",
       "      <td>2014</td>\n",
       "      <td>126.9</td>\n",
       "      <td>4770.0</td>\n",
       "      <td>10965.0</td>\n",
       "      <td>1.0</td>\n",
       "      <td>15.7</td>\n",
       "      <td>2.4</td>\n",
       "      <td>54.6</td>\n",
       "      <td>4168.0</td>\n",
       "      <td>8.4</td>\n",
       "      <td>Brazil</td>\n",
       "      <td>8</td>\n",
       "      <td>3</td>\n",
       "    </tr>\n",
       "    <tr>\n",
       "      <th>3</th>\n",
       "      <td>2015</td>\n",
       "      <td>138.4</td>\n",
       "      <td>8750.0</td>\n",
       "      <td>11842.0</td>\n",
       "      <td>1.3</td>\n",
       "      <td>15.7</td>\n",
       "      <td>3.3</td>\n",
       "      <td>58.3</td>\n",
       "      <td>6254.0</td>\n",
       "      <td>8.9</td>\n",
       "      <td>Brazil</td>\n",
       "      <td>8</td>\n",
       "      <td>3</td>\n",
       "    </tr>\n",
       "    <tr>\n",
       "      <th>4</th>\n",
       "      <td>2016</td>\n",
       "      <td>150.4</td>\n",
       "      <td>8634.0</td>\n",
       "      <td>12183.0</td>\n",
       "      <td>1.3</td>\n",
       "      <td>15.7</td>\n",
       "      <td>3.5</td>\n",
       "      <td>60.9</td>\n",
       "      <td>6613.0</td>\n",
       "      <td>8.9</td>\n",
       "      <td>Brazil</td>\n",
       "      <td>8</td>\n",
       "      <td>4</td>\n",
       "    </tr>\n",
       "  </tbody>\n",
       "</table>\n",
       "</div>"
      ],
      "text/plain": [
       "   Year    CPI     GDP   Energy  Tech  Education Rates  Internet  Tourism  \\\n",
       "0  1995   36.6  4794.0   5038.0   1.0       11.3   0.9      21.0   1085.0   \n",
       "1  2005   79.5  4770.0   8344.0   1.0       11.3   2.4      21.0   4168.0   \n",
       "2  2014  126.9  4770.0  10965.0   1.0       15.7   2.4      54.6   4168.0   \n",
       "3  2015  138.4  8750.0  11842.0   1.3       15.7   3.3      58.3   6254.0   \n",
       "4  2016  150.4  8634.0  12183.0   1.3       15.7   3.5      60.9   6613.0   \n",
       "\n",
       "   Health Country  Country_code  CPI_Level  \n",
       "0     8.0  Brazil             8          1  \n",
       "1     8.0  Brazil             8          1  \n",
       "2     8.4  Brazil             8          3  \n",
       "3     8.9  Brazil             8          3  \n",
       "4     8.9  Brazil             8          4  "
      ]
     },
     "execution_count": 33,
     "metadata": {},
     "output_type": "execute_result"
    }
   ],
   "source": [
    "# reset the index of dataframes and create a column of years:\n",
    "df1.reset_index(inplace = True)\n",
    "df2.reset_index(inplace = True)\n",
    "df2.head()"
   ]
  },
  {
   "cell_type": "code",
   "execution_count": 34,
   "metadata": {},
   "outputs": [
    {
     "data": {
      "text/html": [
       "<div>\n",
       "<style>\n",
       "    .dataframe thead tr:only-child th {\n",
       "        text-align: right;\n",
       "    }\n",
       "\n",
       "    .dataframe thead th {\n",
       "        text-align: left;\n",
       "    }\n",
       "\n",
       "    .dataframe tbody tr th {\n",
       "        vertical-align: top;\n",
       "    }\n",
       "</style>\n",
       "<table border=\"1\" class=\"dataframe\">\n",
       "  <thead>\n",
       "    <tr style=\"text-align: right;\">\n",
       "      <th></th>\n",
       "      <th>Year</th>\n",
       "      <th>CPI</th>\n",
       "      <th>GDP</th>\n",
       "      <th>Energy</th>\n",
       "      <th>Tech</th>\n",
       "      <th>Education</th>\n",
       "      <th>Rates</th>\n",
       "      <th>Internet</th>\n",
       "      <th>Tourism</th>\n",
       "      <th>Health</th>\n",
       "      <th>Country</th>\n",
       "      <th>Country_code</th>\n",
       "      <th>CPI_Level</th>\n",
       "    </tr>\n",
       "  </thead>\n",
       "  <tbody>\n",
       "    <tr>\n",
       "      <th>0</th>\n",
       "      <td>1995</td>\n",
       "      <td>36.6</td>\n",
       "      <td>4794.0</td>\n",
       "      <td>5038.0</td>\n",
       "      <td>1.0</td>\n",
       "      <td>11.3</td>\n",
       "      <td>0.9</td>\n",
       "      <td>21.0</td>\n",
       "      <td>1085.0</td>\n",
       "      <td>8.0</td>\n",
       "      <td>Brazil</td>\n",
       "      <td>8</td>\n",
       "      <td>1</td>\n",
       "    </tr>\n",
       "    <tr>\n",
       "      <th>1</th>\n",
       "      <td>2005</td>\n",
       "      <td>79.5</td>\n",
       "      <td>4770.0</td>\n",
       "      <td>8344.0</td>\n",
       "      <td>1.0</td>\n",
       "      <td>11.3</td>\n",
       "      <td>2.4</td>\n",
       "      <td>21.0</td>\n",
       "      <td>4168.0</td>\n",
       "      <td>8.0</td>\n",
       "      <td>Brazil</td>\n",
       "      <td>8</td>\n",
       "      <td>1</td>\n",
       "    </tr>\n",
       "    <tr>\n",
       "      <th>2</th>\n",
       "      <td>2014</td>\n",
       "      <td>126.9</td>\n",
       "      <td>4770.0</td>\n",
       "      <td>10965.0</td>\n",
       "      <td>1.0</td>\n",
       "      <td>15.7</td>\n",
       "      <td>2.4</td>\n",
       "      <td>54.6</td>\n",
       "      <td>4168.0</td>\n",
       "      <td>8.4</td>\n",
       "      <td>Brazil</td>\n",
       "      <td>8</td>\n",
       "      <td>3</td>\n",
       "    </tr>\n",
       "    <tr>\n",
       "      <th>3</th>\n",
       "      <td>2015</td>\n",
       "      <td>138.4</td>\n",
       "      <td>8750.0</td>\n",
       "      <td>11842.0</td>\n",
       "      <td>1.3</td>\n",
       "      <td>15.7</td>\n",
       "      <td>3.3</td>\n",
       "      <td>58.3</td>\n",
       "      <td>6254.0</td>\n",
       "      <td>8.9</td>\n",
       "      <td>Brazil</td>\n",
       "      <td>8</td>\n",
       "      <td>3</td>\n",
       "    </tr>\n",
       "    <tr>\n",
       "      <th>4</th>\n",
       "      <td>2016</td>\n",
       "      <td>150.4</td>\n",
       "      <td>8634.0</td>\n",
       "      <td>12183.0</td>\n",
       "      <td>1.3</td>\n",
       "      <td>15.7</td>\n",
       "      <td>3.5</td>\n",
       "      <td>60.9</td>\n",
       "      <td>6613.0</td>\n",
       "      <td>8.9</td>\n",
       "      <td>Brazil</td>\n",
       "      <td>8</td>\n",
       "      <td>4</td>\n",
       "    </tr>\n",
       "  </tbody>\n",
       "</table>\n",
       "</div>"
      ],
      "text/plain": [
       "   Year    CPI     GDP   Energy  Tech  Education Rates  Internet  Tourism  \\\n",
       "0  1995   36.6  4794.0   5038.0   1.0       11.3   0.9      21.0   1085.0   \n",
       "1  2005   79.5  4770.0   8344.0   1.0       11.3   2.4      21.0   4168.0   \n",
       "2  2014  126.9  4770.0  10965.0   1.0       15.7   2.4      54.6   4168.0   \n",
       "3  2015  138.4  8750.0  11842.0   1.3       15.7   3.3      58.3   6254.0   \n",
       "4  2016  150.4  8634.0  12183.0   1.3       15.7   3.5      60.9   6613.0   \n",
       "\n",
       "   Health Country  Country_code  CPI_Level  \n",
       "0     8.0  Brazil             8          1  \n",
       "1     8.0  Brazil             8          1  \n",
       "2     8.4  Brazil             8          3  \n",
       "3     8.9  Brazil             8          3  \n",
       "4     8.9  Brazil             8          4  "
      ]
     },
     "execution_count": 34,
     "metadata": {},
     "output_type": "execute_result"
    }
   ],
   "source": [
    "df2.drop([18, 19], inplace = True)\n",
    "df2.reset_index(inplace = True)\n",
    "df2.drop(\"index\", axis = 1, inplace = True)\n",
    "df2.head()"
   ]
  },
  {
   "cell_type": "code",
   "execution_count": 35,
   "metadata": {},
   "outputs": [
    {
     "data": {
      "image/png": "[encoded data removed]",
      "text/plain": [
       "<matplotlib.figure.Figure at 0x4ac8860>"
      ]
     },
     "metadata": {},
     "output_type": "display_data"
    }
   ],
   "source": [
    "sns.pairplot(data = df1, y_vars = ['CPI'], x_vars = ['Year', 'GDP', 'Energy', 'Tech', 'Education', 'Rates', 'Internet', 'Tourism', 'Health'])\n",
    "plt.show()"
   ]
  },
  {
   "cell_type": "code",
   "execution_count": 36,
   "metadata": {
    "scrolled": true
   },
   "outputs": [
    {
     "data": {
      "image/png": "[encoded data removed]",
      "text/plain": [
       "<matplotlib.figure.Figure at 0x13a86198>"
      ]
     },
     "metadata": {},
     "output_type": "display_data"
    }
   ],
   "source": [
    "sns.pairplot(data = df2, y_vars = ['CPI'], x_vars = ['Year', 'GDP', 'Energy', 'Tech', 'Education', 'Rates', 'Internet', 'Tourism', 'Health'])\n",
    "plt.show()"
   ]
  },
  {
   "cell_type": "markdown",
   "metadata": {},
   "source": [
    "## 5. Data Modeling:\n",
    "\n",
    "### Predictor variables:\n",
    "- Year: categorical \n",
    "    - 6 levels: 1995, 2005, 2014, 2015, 2016, 2017\n",
    "- Country_code: \n",
    "    - 7 levels for G7 (1 to 7)\n",
    "    - 5 levels for BRICS (8 to 12)\n",
    "- GDP: numeric\n",
    "- Energy: numeric\n",
    "- Tech: numeric\n",
    "- Education: numeric\n",
    "- Rates: numeric\n",
    "- Internet: numeric\n",
    "- Tourism: numeric\n",
    "- Health: numeric\n",
    "- Group (used in multiple linear regression only): categorical\n",
    "    - 1 if the country is one of G7\n",
    "    - 2 if the country is one of BRICS\n",
    "\n",
    "### Response variable:\n",
    "\n",
    "In part I: CPI_level \n",
    "- categorical variable with 4 categories (1, 2, 3, and 4)\n",
    "  - CPI > 150: high CPI (class 4)\n",
    "  - 120 < CPI <= 150: medium CPI (class 3)\n",
    "  - 80 <= CPI <= 120: moderate CPI (class 2)\n",
    "  - CPI <= 80: low CPI (class 1)\n",
    "  \n",
    "In part II: CPI\n",
    "- numeric values of CPI\n",
    "\n",
    "### Structure:\n",
    "#### Part I: predcition on CPI_level (categorical):\n",
    "  \n",
    "(1) G7 countries modeling:\n",
    "  - KNN classifier\n",
    "  - Naive Bayes classifier\n",
    "  \n",
    "(2) BRICS countires modeling:\n",
    "  - KNN classifier\n",
    "  - Naive Bayes classifier\n",
    "  \n",
    "(3) G7 and BRICS combined:\n",
    "  - KNN classifier\n",
    "  - Naive Bayes classifier\n",
    "\n",
    "#### Part II: prediction on CPI (numeric):\n",
    "\n",
    "Multiple regression models on:\n",
    "- G7 countries\n",
    "- BRICS countries\n",
    "- G7 and BRICS combined\n"
   ]
  },
  {
   "cell_type": "code",
   "execution_count": 37,
   "metadata": {
    "collapsed": true
   },
   "outputs": [],
   "source": [
    "from sklearn.model_selection import train_test_split, cross_val_score\n",
    "from sklearn.neighbors import KNeighborsClassifier\n",
    "from sklearn.naive_bayes import GaussianNB\n",
    "from sklearn.metrics import confusion_matrix\n",
    "from sklearn.model_selection import GridSearchCV\n",
    "from sklearn import linear_model, preprocessing, model_selection"
   ]
  },
  {
   "cell_type": "code",
   "execution_count": 38,
   "metadata": {
    "collapsed": true
   },
   "outputs": [],
   "source": [
    "# handling warning messages:\n",
    "import warnings\n",
    "warnings.filterwarnings('ignore')"
   ]
  },
  {
   "cell_type": "markdown",
   "metadata": {},
   "source": [
    "## Part I: predicting CPI as categorical variables:\n"
   ]
  },
  {
   "cell_type": "markdown",
   "metadata": {},
   "source": [
    "### Transform categorical variable using OneHotEncoder:"
   ]
  },
  {
   "cell_type": "code",
   "execution_count": 39,
   "metadata": {
    "collapsed": true
   },
   "outputs": [],
   "source": [
    "from sklearn.preprocessing import OneHotEncoder"
   ]
  },
  {
   "cell_type": "code",
   "execution_count": 40,
   "metadata": {
    "collapsed": true
   },
   "outputs": [],
   "source": [
    "encode = OneHotEncoder(sparse = False)"
   ]
  },
  {
   "cell_type": "code",
   "execution_count": 41,
   "metadata": {
    "scrolled": false
   },
   "outputs": [
    {
     "name": "stdout",
     "output_type": "stream",
     "text": [
      "Index(['Year', 'CPI', 'GDP', 'Energy', 'Tech', 'Education', 'Rates',\n",
      "       'Internet', 'Tourism', 'Health', 'Country', 'Country_code', 'CPI_Level',\n",
      "       'United States of America', 'Germany', 'France', 'Japan', 'Canada',\n",
      "       'United Kingdom', 'Italy'],\n",
      "      dtype='object')\n",
      "Index(['Year', 'CPI', 'GDP', 'Energy', 'Tech', 'Education', 'Rates',\n",
      "       'Internet', 'Tourism', 'Health', 'Country', 'Country_code', 'CPI_Level',\n",
      "       'Brazil', 'Russian Federation', 'India', 'China', 'South Africa'],\n",
      "      dtype='object')\n"
     ]
    }
   ],
   "source": [
    "df1 = pd.concat([df1, pd.DataFrame(encode.fit_transform(df1[[\"Country_code\"]]), columns = G7)], axis = 1)\n",
    "df2 = pd.concat([df2, pd.DataFrame(encode.fit_transform(df2[[\"Country_code\"]]), columns = BRICS)], axis = 1)\n",
    "print(df1.columns)\n",
    "print(df2.columns)"
   ]
  },
  {
   "cell_type": "markdown",
   "metadata": {},
   "source": [
    "### Cross Validation sets:"
   ]
  },
  {
   "cell_type": "code",
   "execution_count": 42,
   "metadata": {
    "scrolled": true
   },
   "outputs": [
    {
     "name": "stdout",
     "output_type": "stream",
     "text": [
      "training and testing sets for G7 countries:\n",
      "(33, 16)\n",
      "(9, 16)\n",
      "(42, 16)\n",
      "training and testing sets for BRICS countries:\n",
      "(22, 14)\n",
      "(6, 14)\n",
      "(28, 14)\n"
     ]
    }
   ],
   "source": [
    "x1 = df1.iloc[:, [0,2,3,4,5,6,7,8,9,13,14,15,16,17,18,19]].astype(float)\n",
    "y1 = df1.iloc[:, 12]\n",
    "x2 = df2.iloc[:, [0,2,3,4,5,6,7,8,9,13,14,15,16,17]].astype(float)\n",
    "y2 = df2.iloc[:, 12]\n",
    "\n",
    "x1_train, x1_test, y1_train, y1_test = train_test_split(x1, y1, test_size = 0.2, random_state = 1, stratify = df1.Country_code)\n",
    "print(\"training and testing sets for G7 countries:\")\n",
    "print((x1_train).shape)\n",
    "print((x1_test).shape)\n",
    "print(x1.shape)\n",
    "\n",
    "x2_train, x2_test, y2_train, y2_test = train_test_split(x2, y2, test_size = 0.2, random_state = 1, stratify = df2.Country_code)\n",
    "print(\"training and testing sets for BRICS countries:\")\n",
    "print((x2_train).shape)\n",
    "print((x2_test).shape)\n",
    "print(x2.shape)"
   ]
  },
  {
   "cell_type": "markdown",
   "metadata": {},
   "source": [
    "### (1) G7 countries"
   ]
  },
  {
   "cell_type": "markdown",
   "metadata": {},
   "source": [
    "### (a) KNN classifier:"
   ]
  },
  {
   "cell_type": "code",
   "execution_count": 43,
   "metadata": {
    "scrolled": true
   },
   "outputs": [
    {
     "name": "stdout",
     "output_type": "stream",
     "text": [
      "predicted:  [2 2 2 2 2 2 2 2 2]\n",
      "actual:  [1 1 2 2 2 2 2 2 2]\n"
     ]
    },
    {
     "data": {
      "text/plain": [
       "array([[0, 2],\n",
       "       [0, 7]])"
      ]
     },
     "execution_count": 43,
     "metadata": {},
     "output_type": "execute_result"
    }
   ],
   "source": [
    "knn = KNeighborsClassifier()\n",
    "knn.fit(x1_train, y1_train)\n",
    "prediction = knn.predict(x1_test)\n",
    "print(\"predicted: \", prediction)\n",
    "print(\"actual: \", y1_test.values)\n",
    "confusion_matrix(y1_test, prediction)"
   ]
  },
  {
   "cell_type": "markdown",
   "metadata": {},
   "source": [
    "### Paramter search using GridSearchCV:"
   ]
  },
  {
   "cell_type": "code",
   "execution_count": 44,
   "metadata": {
    "scrolled": true
   },
   "outputs": [
    {
     "name": "stdout",
     "output_type": "stream",
     "text": [
      "3\n",
      "0.9393939393939394\n",
      "predicted:  [2 2 2 2 2 2 2 2 2]\n",
      "actual:  [1 1 2 2 2 2 2 2 2]\n"
     ]
    },
    {
     "data": {
      "text/plain": [
       "array([[0, 2],\n",
       "       [0, 7]])"
      ]
     },
     "execution_count": 44,
     "metadata": {},
     "output_type": "execute_result"
    }
   ],
   "source": [
    "grids = {'n_neighbors': np.arange(1, 10), 'weights': ['uniform','distance']}\n",
    "knn_grid = KNeighborsClassifier()\n",
    "knn_grid = GridSearchCV(knn_grid, grids, cv = 5)\n",
    "knn_grid.fit(x1_train, y1_train)\n",
    "\n",
    "n = knn_grid.best_params_['n_neighbors']\n",
    "knn = KNeighborsClassifier(n_neighbors = n)\n",
    "print(n)\n",
    "print(knn_grid.best_score_ )\n",
    "\n",
    "knn.fit(x1_train, y1_train)\n",
    "prediction = knn.predict(x1_test)\n",
    "print(\"predicted: \", prediction)\n",
    "print(\"actual: \", y1_test.values)\n",
    "confusion_matrix(y1_test, prediction)"
   ]
  },
  {
   "cell_type": "markdown",
   "metadata": {},
   "source": [
    "### (b) Naive Bayes Classifier:"
   ]
  },
  {
   "cell_type": "code",
   "execution_count": 45,
   "metadata": {
    "scrolled": false
   },
   "outputs": [
    {
     "name": "stdout",
     "output_type": "stream",
     "text": [
      "predicted:  [2 2 2 2 2 2 2 2 2]\n",
      "actual:  [1 1 2 2 2 2 2 2 2]\n"
     ]
    },
    {
     "data": {
      "text/plain": [
       "array([[0, 2],\n",
       "       [0, 7]])"
      ]
     },
     "execution_count": 45,
     "metadata": {},
     "output_type": "execute_result"
    }
   ],
   "source": [
    "naiveBayes = GaussianNB()\n",
    "naiveBayes.fit(x1_train, y1_train)\n",
    "print(\"predicted: \", naiveBayes.predict(x1_test))\n",
    "print(\"actual: \", y1_test.values)\n",
    "confusion_matrix(y1_test, naiveBayes.predict(x1_test))"
   ]
  },
  {
   "cell_type": "markdown",
   "metadata": {},
   "source": [
    "### (2) BRICS countires"
   ]
  },
  {
   "cell_type": "markdown",
   "metadata": {},
   "source": [
    "### (a) KNN classifier:"
   ]
  },
  {
   "cell_type": "code",
   "execution_count": 46,
   "metadata": {
    "scrolled": false
   },
   "outputs": [
    {
     "name": "stdout",
     "output_type": "stream",
     "text": [
      "predicted:  [3 2 3 3 3 1]\n",
      "actual:  [3 2 4 1 1 1]\n"
     ]
    },
    {
     "data": {
      "text/plain": [
       "array([[1, 0, 2, 0],\n",
       "       [0, 1, 0, 0],\n",
       "       [0, 0, 1, 0],\n",
       "       [0, 0, 1, 0]])"
      ]
     },
     "execution_count": 46,
     "metadata": {},
     "output_type": "execute_result"
    }
   ],
   "source": [
    "knn = KNeighborsClassifier()\n",
    "knn.fit(x2_train, y2_train)\n",
    "prediction = knn.predict(x2_test)\n",
    "print(\"predicted: \", prediction)\n",
    "print(\"actual: \", y2_test.values)\n",
    "confusion_matrix(y2_test, prediction)"
   ]
  },
  {
   "cell_type": "markdown",
   "metadata": {},
   "source": [
    "### Paramter search using GridSearchCV:"
   ]
  },
  {
   "cell_type": "code",
   "execution_count": 47,
   "metadata": {
    "scrolled": true
   },
   "outputs": [
    {
     "name": "stdout",
     "output_type": "stream",
     "text": [
      "3\n",
      "0.6363636363636364\n",
      "predicted:  [3 2 4 4 3 1]\n",
      "actual:  [3 2 4 1 1 1]\n"
     ]
    },
    {
     "data": {
      "text/plain": [
       "array([[1, 0, 1, 1],\n",
       "       [0, 1, 0, 0],\n",
       "       [0, 0, 1, 0],\n",
       "       [0, 0, 0, 1]])"
      ]
     },
     "execution_count": 47,
     "metadata": {},
     "output_type": "execute_result"
    }
   ],
   "source": [
    "grids = {'n_neighbors': np.arange(1, 10), 'weights': ['uniform','distance']}\n",
    "knn_grid = KNeighborsClassifier()\n",
    "knn_grid = GridSearchCV(knn_grid, grids, cv = 5)\n",
    "knn_grid.fit(x2_train, y2_train)\n",
    "print(n)\n",
    "print(knn_grid.best_score_ )\n",
    "\n",
    "n = knn_grid.best_params_['n_neighbors']\n",
    "knn = KNeighborsClassifier(n_neighbors = n)\n",
    "knn.fit(x2_train, y2_train)\n",
    "prediction = knn.predict(x2_test)\n",
    "print(\"predicted: \", prediction)\n",
    "print(\"actual: \", y2_test.values)\n",
    "confusion_matrix(y2_test, prediction)"
   ]
  },
  {
   "cell_type": "markdown",
   "metadata": {},
   "source": [
    "### (b) Naive Bayes Classifier:"
   ]
  },
  {
   "cell_type": "code",
   "execution_count": 48,
   "metadata": {
    "scrolled": true
   },
   "outputs": [
    {
     "name": "stdout",
     "output_type": "stream",
     "text": [
      "predicted:  [3 2 4 1 1 1]\n",
      "actual:  [3 2 4 1 1 1]\n"
     ]
    },
    {
     "data": {
      "text/plain": [
       "array([[3, 0, 0, 0],\n",
       "       [0, 1, 0, 0],\n",
       "       [0, 0, 1, 0],\n",
       "       [0, 0, 0, 1]])"
      ]
     },
     "execution_count": 48,
     "metadata": {},
     "output_type": "execute_result"
    }
   ],
   "source": [
    "naiveBayes = GaussianNB()\n",
    "naiveBayes.fit(x2_train, y2_train)\n",
    "print(\"predicted: \", naiveBayes.predict(x2_test))\n",
    "print(\"actual: \", y2_test.values)\n",
    "confusion_matrix(y2_test, naiveBayes.predict(x2_test))"
   ]
  },
  {
   "cell_type": "markdown",
   "metadata": {},
   "source": [
    "### (3) G7 and BRICS combined:"
   ]
  },
  {
   "cell_type": "markdown",
   "metadata": {},
   "source": [
    "### Cross Validation sets:"
   ]
  },
  {
   "cell_type": "code",
   "execution_count": 49,
   "metadata": {
    "scrolled": false
   },
   "outputs": [
    {
     "name": "stdout",
     "output_type": "stream",
     "text": [
      "training and testing sets for two datasets combined:\n",
      "(56, 23)\n",
      "(14, 23)\n",
      "(70, 23)\n"
     ]
    }
   ],
   "source": [
    "x1 = df1.iloc[:, [0,2,3,4,5,6,7,8,9,11]].astype(float)\n",
    "y1 = df1.iloc[:, 12]\n",
    "x2 = df2.iloc[:, [0,2,3,4,5,6,7,8,9,11]].astype(float)\n",
    "y2 = df2.iloc[:, 12]\n",
    "\n",
    "x = pd.concat([x1, x2])\n",
    "y = pd.concat([y1, y2])\n",
    "\n",
    "x.reset_index(inplace = True)\n",
    "x = pd.concat([x, pd.DataFrame(encode.fit_transform(x[[\"Country_code\"]]), columns = G7 + BRICS)], axis = 1)\n",
    "\n",
    "x_train, x_test, y_train, y_test = train_test_split(x, y, test_size = 0.2, random_state = 1, stratify = x.Country_code)\n",
    "print(\"training and testing sets for two datasets combined:\")\n",
    "print((x_train).shape)\n",
    "print((x_test).shape)\n",
    "print(x.shape)"
   ]
  },
  {
   "cell_type": "markdown",
   "metadata": {},
   "source": [
    "### (a) KNN classifier:"
   ]
  },
  {
   "cell_type": "code",
   "execution_count": 50,
   "metadata": {
    "scrolled": true
   },
   "outputs": [
    {
     "name": "stdout",
     "output_type": "stream",
     "text": [
      "predicted:  [1 2 1 2 2 2 2 2 1 1 3 2 2 2]\n",
      "actual:  [4 2 4 2 2 2 2 2 1 4 3 2 2 1]\n"
     ]
    },
    {
     "data": {
      "text/plain": [
       "array([[1, 1, 0, 0],\n",
       "       [0, 8, 0, 0],\n",
       "       [0, 0, 1, 0],\n",
       "       [3, 0, 0, 0]])"
      ]
     },
     "execution_count": 50,
     "metadata": {},
     "output_type": "execute_result"
    }
   ],
   "source": [
    "knn = KNeighborsClassifier()\n",
    "knn.fit(x_train, y_train)\n",
    "prediction = knn.predict(x_test)\n",
    "print(\"predicted: \", prediction)\n",
    "print(\"actual: \", y_test.values)\n",
    "confusion_matrix(y_test, prediction)"
   ]
  },
  {
   "cell_type": "markdown",
   "metadata": {},
   "source": [
    "### Paramter search using GridSearchCV:"
   ]
  },
  {
   "cell_type": "code",
   "execution_count": 51,
   "metadata": {
    "scrolled": true
   },
   "outputs": [
    {
     "name": "stdout",
     "output_type": "stream",
     "text": [
      "4\n",
      "0.7142857142857143\n",
      "predicted:  [4 2 4 2 2 1 2 2 3 4 3 2 2 1]\n",
      "actual:  [4 2 4 2 2 2 2 2 1 4 3 2 2 1]\n"
     ]
    },
    {
     "data": {
      "text/plain": [
       "array([[1, 0, 1, 0],\n",
       "       [1, 7, 0, 0],\n",
       "       [0, 0, 1, 0],\n",
       "       [0, 0, 0, 3]])"
      ]
     },
     "execution_count": 51,
     "metadata": {},
     "output_type": "execute_result"
    }
   ],
   "source": [
    "grids = {'n_neighbors': np.arange(1, 10), 'weights': ['uniform','distance']}\n",
    "knn_grid = KNeighborsClassifier()\n",
    "knn_grid = GridSearchCV(knn_grid, grids, cv = 5)\n",
    "knn_grid.fit(x_train, y_train)\n",
    "print(n)\n",
    "print(knn_grid.best_score_ )\n",
    "\n",
    "n = knn_grid.best_params_['n_neighbors']\n",
    "knn = KNeighborsClassifier(n_neighbors = n)\n",
    "knn.fit(x_train, y_train)\n",
    "prediction = knn.predict(x_test)\n",
    "print(\"predicted: \", prediction)\n",
    "print(\"actual: \", y_test.values)\n",
    "confusion_matrix(y_test, prediction)"
   ]
  },
  {
   "cell_type": "markdown",
   "metadata": {},
   "source": [
    "### (b) Naive Bayes Classifier:"
   ]
  },
  {
   "cell_type": "code",
   "execution_count": 52,
   "metadata": {
    "scrolled": false
   },
   "outputs": [
    {
     "name": "stdout",
     "output_type": "stream",
     "text": [
      "predicted:  [4 2 4 2 2 1 2 2 1 4 3 2 2 1]\n",
      "actual:  [4 2 4 2 2 2 2 2 1 4 3 2 2 1]\n"
     ]
    },
    {
     "data": {
      "text/plain": [
       "array([[2, 0, 0, 0],\n",
       "       [1, 7, 0, 0],\n",
       "       [0, 0, 1, 0],\n",
       "       [0, 0, 0, 3]])"
      ]
     },
     "execution_count": 52,
     "metadata": {},
     "output_type": "execute_result"
    }
   ],
   "source": [
    "naiveBayes = GaussianNB()\n",
    "naiveBayes.fit(x_train, y_train)\n",
    "print(\"predicted: \", naiveBayes.predict(x_test))\n",
    "print(\"actual: \", y_test.values)\n",
    "(confusion_matrix(y_test, naiveBayes.predict(x_test)))"
   ]
  },
  {
   "cell_type": "markdown",
   "metadata": {},
   "source": [
    "### Part II: predicting CPI as a numeric variable\n",
    "### Cross Validation sets:"
   ]
  },
  {
   "cell_type": "code",
   "execution_count": 53,
   "metadata": {
    "scrolled": false
   },
   "outputs": [
    {
     "name": "stdout",
     "output_type": "stream",
     "text": [
      "training and testing sets for two datasets combined:\n",
      "(56, 14)\n",
      "(14, 14)\n",
      "(70, 14)\n"
     ]
    }
   ],
   "source": [
    "# treat year and country_code as categorical variables:\n",
    "x1 = df1.iloc[:, [0,2,3,4,5,6,7,8,9,11]]\n",
    "y1 = df1.iloc[:, 1]\n",
    "x2 = df2.iloc[:, [0,2,3,4,5,6,7,8,9,11]]\n",
    "y2 = df2.iloc[:, 1]\n",
    "\n",
    "x1_train, x1_test, y1_train, y1_test = train_test_split(x1, y1, test_size = 0.2, random_state = 1, stratify = x1.Country_code)\n",
    "x2_train, x2_test, y2_train, y2_test = train_test_split(x2, y2, test_size = 0.2, random_state = 1, stratify = x2.Country_code)\n",
    "\n",
    "x1[\"Group\"] = 1\n",
    "x2[\"Group\"] = 2\n",
    "x = pd.concat([x1, x2])\n",
    "y = pd.concat([y1, y2])\n",
    "\n",
    "x.reset_index(inplace = True)\n",
    "x = pd.concat([x, pd.DataFrame(encode.fit_transform(x[[\"Group\"]]), columns = [\"G7\", \"BRICS\"])], axis = 1)\n",
    "# for MLR modeling:\n",
    "df = pd.concat([x, y.reset_index().iloc[:, 1]], axis = 1)\n",
    "\n",
    "x_train, x_test, y_train, y_test = train_test_split(x, y, test_size = 0.2, random_state = 1, stratify = x.Country_code)\n",
    "print(\"training and testing sets for two datasets combined:\")\n",
    "print((x_train).shape)\n",
    "print((x_test).shape)\n",
    "print(x.shape)"
   ]
  },
  {
   "cell_type": "markdown",
   "metadata": {},
   "source": [
    "### Multiple linear regression model for G7:"
   ]
  },
  {
   "cell_type": "code",
   "execution_count": 54,
   "metadata": {},
   "outputs": [
    {
     "data": {
      "text/plain": [
       "0.9146124729504438"
      ]
     },
     "execution_count": 54,
     "metadata": {},
     "output_type": "execute_result"
    }
   ],
   "source": [
    "linear1 = linear_model.LinearRegression()\n",
    "linear1.fit(x1_train, y1_train)\n",
    "linear1.score(x1_train, y1_train)"
   ]
  },
  {
   "cell_type": "markdown",
   "metadata": {},
   "source": [
    "### Multiple linear regression model for BRICS:"
   ]
  },
  {
   "cell_type": "code",
   "execution_count": 55,
   "metadata": {},
   "outputs": [
    {
     "data": {
      "text/plain": [
       "0.9785759999453585"
      ]
     },
     "execution_count": 55,
     "metadata": {},
     "output_type": "execute_result"
    }
   ],
   "source": [
    "linear2 = linear_model.LinearRegression()\n",
    "linear2.fit(x2_train, y2_train)\n",
    "linear2.score(x2_train, y2_train)"
   ]
  },
  {
   "cell_type": "markdown",
   "metadata": {},
   "source": [
    "### Multiple linear regression model for G7 and BRICS combined:"
   ]
  },
  {
   "cell_type": "code",
   "execution_count": 56,
   "metadata": {},
   "outputs": [
    {
     "data": {
      "text/plain": [
       "0.7977202107074045"
      ]
     },
     "execution_count": 56,
     "metadata": {},
     "output_type": "execute_result"
    }
   ],
   "source": [
    "linear = linear_model.LinearRegression()\n",
    "linear.fit(x_train, y_train)\n",
    "linear.score(x_train, y_train)"
   ]
  },
  {
   "cell_type": "markdown",
   "metadata": {},
   "source": [
    "### Cross Validation on linear model:"
   ]
  },
  {
   "cell_type": "code",
   "execution_count": 57,
   "metadata": {},
   "outputs": [
    {
     "name": "stdout",
     "output_type": "stream",
     "text": [
      "[0.74869989 0.621936   0.46861086]\n",
      "0.6130822507682199\n"
     ]
    }
   ],
   "source": [
    "cv = model_selection.ShuffleSplit(n_splits = 3, test_size = 0.2, random_state = 0)\n",
    "cv_linear = model_selection.cross_val_score(linear1, x1, y1, cv = cv)\n",
    "print(cv_linear)\n",
    "print(np.mean(cv_linear))"
   ]
  },
  {
   "cell_type": "code",
   "execution_count": 58,
   "metadata": {},
   "outputs": [
    {
     "name": "stdout",
     "output_type": "stream",
     "text": [
      "[0.88344879 0.91287006 0.26441176]\n",
      "0.6869102021628125\n"
     ]
    }
   ],
   "source": [
    "cv = model_selection.ShuffleSplit(n_splits = 3, test_size = 0.2, random_state = 0)\n",
    "cv_linear = model_selection.cross_val_score(linear2, x2, y2, cv = cv)\n",
    "print(cv_linear)\n",
    "print(np.mean(cv_linear))"
   ]
  },
  {
   "cell_type": "code",
   "execution_count": 59,
   "metadata": {
    "scrolled": false
   },
   "outputs": [
    {
     "name": "stdout",
     "output_type": "stream",
     "text": [
      "[0.61667393 0.82727128 0.71051392]\n",
      "0.7181530437696667\n"
     ]
    }
   ],
   "source": [
    "cv = model_selection.ShuffleSplit(n_splits = 3, test_size = 0.2, random_state = 0)\n",
    "cv_linear = model_selection.cross_val_score(linear, x, y, cv = cv)\n",
    "print(cv_linear)\n",
    "print(np.mean(cv_linear))"
   ]
  },
  {
   "cell_type": "markdown",
   "metadata": {},
   "source": [
    "### Test Statistics from ANOVA:\n",
    "Note: with the issue of overfitting"
   ]
  },
  {
   "cell_type": "code",
   "execution_count": 60,
   "metadata": {
    "collapsed": true
   },
   "outputs": [],
   "source": [
    "import statsmodels.api as sm\n",
    "import statsmodels.formula.api as smf"
   ]
  },
  {
   "cell_type": "code",
   "execution_count": 61,
   "metadata": {
    "scrolled": true
   },
   "outputs": [
    {
     "name": "stdout",
     "output_type": "stream",
     "text": [
      "                            OLS Regression Results                            \n",
      "==============================================================================\n",
      "Dep. Variable:                    CPI   R-squared:                       0.979\n",
      "Model:                            OLS   Adj. R-squared:                  0.947\n",
      "Method:                 Least Squares   F-statistic:                     30.10\n",
      "Date:                Sun, 26 May 2019   Prob (F-statistic):           2.79e-09\n",
      "Time:                        17:24:57   Log-Likelihood:                -82.149\n",
      "No. Observations:                  42   AIC:                             216.3\n",
      "Df Residuals:                      16   BIC:                             261.5\n",
      "Df Model:                          25                                         \n",
      "Covariance Type:            nonrobust                                         \n",
      "========================================================================================\n",
      "                           coef    std err          t      P>|t|      [0.025      0.975]\n",
      "----------------------------------------------------------------------------------------\n",
      "Intercept            -3150.0919    511.941     -6.153      0.000   -4235.358   -2064.826\n",
      "Rates[T.0.6]             2.0627     12.102      0.170      0.867     -23.593      27.718\n",
      "Rates[T.0.7]             5.1550     10.850      0.475      0.641     -17.846      28.156\n",
      "Rates[T.0.8]             5.6037     10.814      0.518      0.611     -17.321      28.529\n",
      "Rates[T.0.9]             3.2044     10.607      0.302      0.766     -19.282      25.690\n",
      "Rates[T.1.1]             6.4796      3.498      1.852      0.083      -0.936      13.895\n",
      "Rates[T.1.2]             4.9260      3.967      1.242      0.232      -3.484      13.336\n",
      "Rates[T.1.3]             8.2204      3.559      2.310      0.035       0.676      15.765\n",
      "Rates[T.1.4]            -0.1999      4.704     -0.042      0.967     -10.171       9.771\n",
      "Rates[T.105.9]         -10.9145      5.620     -1.942      0.070     -22.829       1.000\n",
      "Rates[T.108.8]         -12.2505      5.370     -2.281      0.037     -23.635      -0.866\n",
      "Rates[T.110.2]          16.8161      4.506      3.732      0.002       7.265      26.367\n",
      "Rates[T.112.2]         -14.3918      5.785     -2.488      0.024     -26.655      -2.129\n",
      "Rates[T.121]           -12.7070      5.879     -2.161      0.046     -25.170      -0.244\n",
      "Rates[T.94.1]           36.3043      5.395      6.730      0.000      24.868      47.740\n",
      "C(Country_code)[T.2]     4.9743      8.840      0.563      0.581     -13.767      23.715\n",
      "C(Country_code)[T.3]   -10.4209     14.060     -0.741      0.469     -40.227      19.385\n",
      "C(Country_code)[T.4]     2.8566     19.491      0.147      0.885     -38.463      44.176\n",
      "C(Country_code)[T.5]    19.4261     11.112      1.748      0.100      -4.130      42.982\n",
      "C(Country_code)[T.6]    42.3060     12.374      3.419      0.004      16.073      68.539\n",
      "C(Country_code)[T.7]   -20.8337     23.137     -0.900      0.381     -69.882      28.214\n",
      "Year                     1.6532      0.264      6.250      0.000       1.092       2.214\n",
      "GDP                     -0.0003      0.000     -1.313      0.208      -0.001       0.000\n",
      "Energy                8.412e-05      0.000      0.316      0.756      -0.000       0.001\n",
      "Tech                     1.7070      6.631      0.257      0.800     -12.351      15.765\n",
      "Education               -8.7255      4.224     -2.066      0.055     -17.680       0.229\n",
      "Internet                -0.3240      0.169     -1.912      0.074      -0.683       0.035\n",
      "Tourism               1.895e-05   3.65e-05      0.519      0.611   -5.84e-05    9.63e-05\n",
      "Health                   4.3674      1.803      2.422      0.028       0.545       8.189\n",
      "==============================================================================\n",
      "Omnibus:                        8.145   Durbin-Watson:                   2.669\n",
      "Prob(Omnibus):                  0.017   Jarque-Bera (JB):               15.725\n",
      "Skew:                          -0.124   Prob(JB):                     0.000385\n",
      "Kurtosis:                       5.987   Cond. No.                     1.30e+16\n",
      "==============================================================================\n",
      "\n",
      "Warnings:\n",
      "[1] Standard Errors assume that the covariance matrix of the errors is correctly specified.\n",
      "[2] The smallest eigenvalue is 2.14e-21. This might indicate that there are\n",
      "strong multicollinearity problems or that the design matrix is singular.\n"
     ]
    }
   ],
   "source": [
    "model = smf.ols(\"CPI ~ Year + GDP  + Energy + Tech + Education + Rates + Internet + Tourism + Health + C(Country_code)\", data = df1)\n",
    "results = model.fit()\n",
    "print(results.summary())"
   ]
  },
  {
   "cell_type": "code",
   "execution_count": 62,
   "metadata": {
    "scrolled": true
   },
   "outputs": [
    {
     "name": "stdout",
     "output_type": "stream",
     "text": [
      "                            OLS Regression Results                            \n",
      "==============================================================================\n",
      "Dep. Variable:                    CPI   R-squared:                       0.968\n",
      "Model:                            OLS   Adj. R-squared:                  0.931\n",
      "Method:                 Least Squares   F-statistic:                     26.04\n",
      "Date:                Sun, 26 May 2019   Prob (F-statistic):           6.34e-10\n",
      "Time:                        17:24:57   Log-Likelihood:                -91.240\n",
      "No. Observations:                  42   AIC:                             228.5\n",
      "Df Residuals:                      19   BIC:                             268.4\n",
      "Df Model:                          22                                         \n",
      "Covariance Type:            nonrobust                                         \n",
      "==================================================================================\n",
      "                     coef    std err          t      P>|t|      [0.025      0.975]\n",
      "----------------------------------------------------------------------------------\n",
      "Intercept      -3318.4483    542.810     -6.113      0.000   -4454.563   -2182.334\n",
      "Rates[T.0.6]      31.8173     14.701      2.164      0.043       1.049      62.586\n",
      "Rates[T.0.7]      30.8976     15.798      1.956      0.065      -2.167      63.963\n",
      "Rates[T.0.8]      30.5022     15.789      1.932      0.068      -2.545      63.550\n",
      "Rates[T.0.9]      28.5024     16.727      1.704      0.105      -6.507      63.512\n",
      "Rates[T.1.1]      24.9953     12.751      1.960      0.065      -1.692      51.683\n",
      "Rates[T.1.2]      25.8078     13.047      1.978      0.063      -1.500      53.116\n",
      "Rates[T.1.3]      25.3113     11.968      2.115      0.048       0.262      50.361\n",
      "Rates[T.1.4]      23.3910     13.570      1.724      0.101      -5.011      51.793\n",
      "Rates[T.105.9]    30.3421     18.394      1.650      0.115      -8.157      68.841\n",
      "Rates[T.108.8]    27.5965     18.391      1.501      0.150     -10.896      66.089\n",
      "Rates[T.110.2]    42.6741     18.247      2.339      0.030       4.482      80.866\n",
      "Rates[T.112.2]    26.2271     18.603      1.410      0.175     -12.709      65.163\n",
      "Rates[T.121]      28.6378     18.772      1.526      0.144     -10.652      67.928\n",
      "Rates[T.94.1]     61.6616     17.191      3.587      0.002      25.680      97.643\n",
      "Year               1.6817      0.276      6.095      0.000       1.104       2.259\n",
      "GDP               -0.0002      0.000     -0.785      0.442      -0.001       0.000\n",
      "Energy             0.0003      0.000      1.266      0.221      -0.000       0.001\n",
      "Tech              -1.1850      3.566     -0.332      0.743      -8.648       6.278\n",
      "Education          0.9844      1.050      0.938      0.360      -1.213       3.182\n",
      "Internet          -0.0142      0.107     -0.133      0.895      -0.238       0.209\n",
      "Tourism         1.274e-05   3.72e-05      0.343      0.736   -6.51e-05    9.06e-05\n",
      "Health             0.6669      1.460      0.457      0.653      -2.389       3.723\n",
      "==============================================================================\n",
      "Omnibus:                       10.869   Durbin-Watson:                   2.259\n",
      "Prob(Omnibus):                  0.004   Jarque-Bera (JB):               13.696\n",
      "Skew:                          -0.769   Prob(JB):                      0.00106\n",
      "Kurtosis:                       5.336   Cond. No.                     1.03e+08\n",
      "==============================================================================\n",
      "\n",
      "Warnings:\n",
      "[1] Standard Errors assume that the covariance matrix of the errors is correctly specified.\n",
      "[2] The condition number is large, 1.03e+08. This might indicate that there are\n",
      "strong multicollinearity or other numerical problems.\n"
     ]
    }
   ],
   "source": [
    "# without using country_code:\n",
    "model = smf.ols(\"CPI ~ Year + GDP  + Energy + Tech + Education + Rates + Internet + Tourism + Health\", data = df1)\n",
    "results = model.fit()\n",
    "print(results.summary())"
   ]
  },
  {
   "cell_type": "code",
   "execution_count": 63,
   "metadata": {
    "scrolled": true
   },
   "outputs": [
    {
     "name": "stdout",
     "output_type": "stream",
     "text": [
      "                            OLS Regression Results                            \n",
      "==============================================================================\n",
      "Dep. Variable:                    CPI   R-squared:                       0.992\n",
      "Model:                            OLS   Adj. R-squared:                  0.986\n",
      "Method:                 Least Squares   F-statistic:                     154.3\n",
      "Date:                Sun, 26 May 2019   Prob (F-statistic):           1.91e-13\n",
      "Time:                        17:24:57   Log-Likelihood:                -78.305\n",
      "No. Observations:                  28   AIC:                             182.6\n",
      "Df Residuals:                      15   BIC:                             199.9\n",
      "Df Model:                          12                                         \n",
      "Covariance Type:            nonrobust                                         \n",
      "=========================================================================================\n",
      "                            coef    std err          t      P>|t|      [0.025      0.975]\n",
      "-----------------------------------------------------------------------------------------\n",
      "Intercept             -6586.6031    858.978     -7.668      0.000   -8417.471   -4755.735\n",
      "C(Country_code)[T.9]   -145.4794     28.002     -5.195      0.000    -205.165     -85.794\n",
      "C(Country_code)[T.10]   -70.0538     23.602     -2.968      0.010    -120.360     -19.748\n",
      "C(Country_code)[T.11]  -280.5317     78.996     -3.551      0.003    -448.909    -112.155\n",
      "C(Country_code)[T.12]     6.4132     11.911      0.538      0.598     -18.974      31.801\n",
      "Year                      3.3767      0.445      7.588      0.000       2.428       4.325\n",
      "GDP                       0.0009      0.001      0.859      0.404      -0.001       0.003\n",
      "Energy                    0.0019      0.001      2.200      0.044    5.98e-05       0.004\n",
      "Tech                      6.1411     12.006      0.512      0.616     -19.448      31.731\n",
      "Education                -1.6565      1.170     -1.416      0.177      -4.150       0.836\n",
      "Internet                  0.9293      0.175      5.317      0.000       0.557       1.302\n",
      "Tourism                   0.0003      0.000      1.012      0.327      -0.000       0.001\n",
      "Health                  -16.6729      6.918     -2.410      0.029     -31.419      -1.927\n",
      "==============================================================================\n",
      "Omnibus:                        7.792   Durbin-Watson:                   2.349\n",
      "Prob(Omnibus):                  0.020   Jarque-Bera (JB):                6.055\n",
      "Skew:                          -1.071   Prob(JB):                       0.0484\n",
      "Kurtosis:                       3.774   Cond. No.                     4.12e+07\n",
      "==============================================================================\n",
      "\n",
      "Warnings:\n",
      "[1] Standard Errors assume that the covariance matrix of the errors is correctly specified.\n",
      "[2] The condition number is large, 4.12e+07. This might indicate that there are\n",
      "strong multicollinearity or other numerical problems.\n"
     ]
    }
   ],
   "source": [
    "model = smf.ols(\"CPI ~ Year + GDP  + Energy + Tech + Education + Internet + Tourism + Health + C(Country_code)\", data = df2)\n",
    "results = model.fit()\n",
    "print(results.summary())"
   ]
  },
  {
   "cell_type": "code",
   "execution_count": 64,
   "metadata": {
    "scrolled": false
   },
   "outputs": [
    {
     "name": "stdout",
     "output_type": "stream",
     "text": [
      "                            OLS Regression Results                            \n",
      "==============================================================================\n",
      "Dep. Variable:                    CPI   R-squared:                       0.972\n",
      "Model:                            OLS   Adj. R-squared:                  0.960\n",
      "Method:                 Least Squares   F-statistic:                     81.10\n",
      "Date:                Sun, 26 May 2019   Prob (F-statistic):           4.79e-13\n",
      "Time:                        17:24:57   Log-Likelihood:                -96.001\n",
      "No. Observations:                  28   AIC:                             210.0\n",
      "Df Residuals:                      19   BIC:                             222.0\n",
      "Df Model:                           8                                         \n",
      "Covariance Type:            nonrobust                                         \n",
      "==============================================================================\n",
      "                 coef    std err          t      P>|t|      [0.025      0.975]\n",
      "------------------------------------------------------------------------------\n",
      "Intercept  -8791.0353   1021.222     -8.608      0.000   -1.09e+04   -6653.594\n",
      "Year           4.4555      0.510      8.733      0.000       3.388       5.523\n",
      "GDP            0.0025      0.001      2.013      0.059   -9.95e-05       0.005\n",
      "Energy        -0.0006      0.000     -3.390      0.003      -0.001      -0.000\n",
      "Tech         -18.2286     10.476     -1.740      0.098     -40.155       3.698\n",
      "Education     -1.2078      0.853     -1.417      0.173      -2.992       0.577\n",
      "Internet       0.6540      0.220      2.978      0.008       0.194       1.114\n",
      "Tourism     3.409e-05      0.000      0.102      0.920      -0.001       0.001\n",
      "Health        -6.7678      1.927     -3.512      0.002     -10.801      -2.735\n",
      "==============================================================================\n",
      "Omnibus:                        2.600   Durbin-Watson:                   1.909\n",
      "Prob(Omnibus):                  0.273   Jarque-Bera (JB):                1.251\n",
      "Skew:                           0.318   Prob(JB):                        0.535\n",
      "Kurtosis:                       3.817   Cond. No.                     2.92e+07\n",
      "==============================================================================\n",
      "\n",
      "Warnings:\n",
      "[1] Standard Errors assume that the covariance matrix of the errors is correctly specified.\n",
      "[2] The condition number is large, 2.92e+07. This might indicate that there are\n",
      "strong multicollinearity or other numerical problems.\n"
     ]
    }
   ],
   "source": [
    "# without using country_code:\n",
    "model = smf.ols(\"CPI ~ Year + GDP  + Energy + Tech + Education + Internet + Tourism + Health\", data = df2)\n",
    "results = model.fit()\n",
    "print(results.summary())"
   ]
  },
  {
   "cell_type": "code",
   "execution_count": 65,
   "metadata": {
    "scrolled": true
   },
   "outputs": [
    {
     "name": "stdout",
     "output_type": "stream",
     "text": [
      "                            OLS Regression Results                            \n",
      "==============================================================================\n",
      "Dep. Variable:                    CPI   R-squared:                       0.906\n",
      "Model:                            OLS   Adj. R-squared:                  0.870\n",
      "Method:                 Least Squares   F-statistic:                     25.28\n",
      "Date:                Sun, 26 May 2019   Prob (F-statistic):           2.79e-19\n",
      "Time:                        17:24:57   Log-Likelihood:                -255.10\n",
      "No. Observations:                  70   AIC:                             550.2\n",
      "Df Residuals:                      50   BIC:                             595.2\n",
      "Df Model:                          19                                         \n",
      "Covariance Type:            nonrobust                                         \n",
      "=========================================================================================\n",
      "                            coef    std err          t      P>|t|      [0.025      0.975]\n",
      "-----------------------------------------------------------------------------------------\n",
      "Intercept             -3127.3856    880.833     -3.550      0.001   -4896.590   -1358.181\n",
      "C(Group)[T.2]            28.2072     40.375      0.699      0.488     -52.889     109.304\n",
      "C(Country_code)[T.2]    130.9540     45.382      2.886      0.006      39.801     222.107\n",
      "C(Country_code)[T.3]    144.1733     47.170      3.056      0.004      49.429     238.917\n",
      "C(Country_code)[T.4]    129.5387     47.139      2.748      0.008      34.857     224.220\n",
      "C(Country_code)[T.5]     74.8321     43.346      1.726      0.090     -12.231     161.896\n",
      "C(Country_code)[T.6]     93.1793     53.653      1.737      0.089     -14.585     200.944\n",
      "C(Country_code)[T.7]    154.5758     56.897      2.717      0.009      40.295     268.857\n",
      "C(Country_code)[T.8]     94.6902     21.046      4.499      0.000      52.419     136.962\n",
      "C(Country_code)[T.9]    -58.6116      8.192     -7.154      0.000     -75.067     -42.156\n",
      "C(Country_code)[T.10]    54.8118     23.888      2.295      0.026       6.831     102.793\n",
      "C(Country_code)[T.11]  -146.6540     43.330     -3.385      0.001    -233.686     -59.622\n",
      "C(Country_code)[T.12]    83.9709     30.666      2.738      0.009      22.376     145.565\n",
      "Year                      1.5386      0.462      3.332      0.002       0.611       2.466\n",
      "GDP                      -0.0003      0.000     -0.594      0.555      -0.001       0.001\n",
      "Energy                    0.0027      0.001      4.691      0.000       0.002       0.004\n",
      "Tech                     -0.8892      9.525     -0.093      0.926     -20.021      18.243\n",
      "Education                 3.2442      2.021      1.605      0.115      -0.815       7.303\n",
      "Internet                  1.2078      0.182      6.647      0.000       0.843       1.573\n",
      "Tourism               -1.262e-06    9.9e-05     -0.013      0.990      -0.000       0.000\n",
      "Health                  -11.9300      3.211     -3.716      0.001     -18.379      -5.481\n",
      "==============================================================================\n",
      "Omnibus:                        0.292   Durbin-Watson:                   1.661\n",
      "Prob(Omnibus):                  0.864   Jarque-Bera (JB):                0.473\n",
      "Skew:                           0.084   Prob(JB):                        0.789\n",
      "Kurtosis:                       2.633   Cond. No.                     6.61e+17\n",
      "==============================================================================\n",
      "\n",
      "Warnings:\n",
      "[1] Standard Errors assume that the covariance matrix of the errors is correctly specified.\n",
      "[2] The smallest eigenvalue is 8.91e-25. This might indicate that there are\n",
      "strong multicollinearity problems or that the design matrix is singular.\n"
     ]
    }
   ],
   "source": [
    "model = smf.ols(\"CPI ~ Year + GDP  + Energy + Tech + Education + Internet + Tourism + Health + C(Group) + C(Country_code)\", data = df)\n",
    "results = model.fit()\n",
    "print(results.summary())"
   ]
  },
  {
   "cell_type": "code",
   "execution_count": 66,
   "metadata": {
    "scrolled": true
   },
   "outputs": [
    {
     "name": "stdout",
     "output_type": "stream",
     "text": [
      "                            OLS Regression Results                            \n",
      "==============================================================================\n",
      "Dep. Variable:                    CPI   R-squared:                       0.699\n",
      "Model:                            OLS   Adj. R-squared:                  0.615\n",
      "Method:                 Least Squares   F-statistic:                     8.356\n",
      "Date:                Sun, 26 May 2019   Prob (F-statistic):           2.25e-09\n",
      "Time:                        17:24:58   Log-Likelihood:                -295.75\n",
      "No. Observations:                  70   AIC:                             623.5\n",
      "Df Residuals:                      54   BIC:                             659.5\n",
      "Df Model:                          15                                         \n",
      "Covariance Type:            nonrobust                                         \n",
      "=========================================================================================\n",
      "                            coef    std err          t      P>|t|      [0.025      0.975]\n",
      "-----------------------------------------------------------------------------------------\n",
      "Intercept             -6951.7645    757.196     -9.181      0.000   -8469.851   -5433.678\n",
      "C(Group)[T.2]           -33.2047     26.529     -1.252      0.216     -86.391      19.982\n",
      "C(Country_code)[T.2]     12.6087     14.876      0.848      0.400     -17.216      42.434\n",
      "C(Country_code)[T.3]      8.6049     18.021      0.477      0.635     -27.525      44.735\n",
      "C(Country_code)[T.4]     36.5453     21.330      1.713      0.092      -6.220      79.310\n",
      "C(Country_code)[T.5]    -11.4067     15.928     -0.716      0.477     -43.340      20.527\n",
      "C(Country_code)[T.6]    -21.6411     17.731     -1.221      0.228     -57.189      13.907\n",
      "C(Country_code)[T.7]      0.7081     28.135      0.025      0.980     -55.698      57.114\n",
      "C(Country_code)[T.8]    -26.2636     12.062     -2.177      0.034     -50.446      -2.081\n",
      "C(Country_code)[T.9]     -8.3075      8.424     -0.986      0.328     -25.197       8.582\n",
      "C(Country_code)[T.10]    -9.9163     12.677     -0.782      0.438     -35.333      15.500\n",
      "C(Country_code)[T.11]    91.7282     40.899      2.243      0.029       9.730     173.726\n",
      "C(Country_code)[T.12]   -80.4455     27.618     -2.913      0.005    -135.817     -25.074\n",
      "Year                      3.4955      0.385      9.070      0.000       2.723       4.268\n",
      "GDP                      -0.0010      0.001     -1.815      0.075      -0.002       0.000\n",
      "Tech                    -17.0474     14.921     -1.143      0.258     -46.963      12.868\n",
      "Education                 8.8199      3.311      2.664      0.010       2.183      15.457\n",
      "==============================================================================\n",
      "Omnibus:                        7.386   Durbin-Watson:                   1.453\n",
      "Prob(Omnibus):                  0.025   Jarque-Bera (JB):               12.919\n",
      "Skew:                          -0.183   Prob(JB):                      0.00157\n",
      "Kurtosis:                       5.072   Cond. No.                     4.83e+19\n",
      "==============================================================================\n",
      "\n",
      "Warnings:\n",
      "[1] Standard Errors assume that the covariance matrix of the errors is correctly specified.\n",
      "[2] The smallest eigenvalue is 2.77e-29. This might indicate that there are\n",
      "strong multicollinearity problems or that the design matrix is singular.\n"
     ]
    }
   ],
   "source": [
    "simplified = smf.ols(\"CPI ~ Year + GDP + C(Group) + C(Country_code) + Tech + Education\", data = df)\n",
    "results = simplified.fit()\n",
    "print(results.summary())"
   ]
  },
  {
   "cell_type": "code",
   "execution_count": 72,
   "metadata": {
    "scrolled": true
   },
   "outputs": [
    {
     "data": {
      "text/plain": [
       "['Australia',\n",
       " 'Saudi Arabia',\n",
       " 'India',\n",
       " 'Turkey',\n",
       " 'Argentina',\n",
       " 'Mexico',\n",
       " 'Indonesia']"
      ]
     },
     "execution_count": 72,
     "metadata": {},
     "output_type": "execute_result"
    }
   ],
   "source": [
    "# testing on G20 countries (not in G7 nor in BRICS) (Note: no data entry for South Korea)\n",
    "testing = [\"Australia\", 'Saudi Arabia', 'India', 'Turkey', 'Argentina', 'Mexico', 'Indonesia']\n",
    "testing"
   ]
  },
  {
   "cell_type": "code",
   "execution_count": 73,
   "metadata": {},
   "outputs": [
    {
     "data": {
      "text/html": [
       "<div>\n",
       "<style>\n",
       "    .dataframe thead tr:only-child th {\n",
       "        text-align: right;\n",
       "    }\n",
       "\n",
       "    .dataframe thead th {\n",
       "        text-align: left;\n",
       "    }\n",
       "\n",
       "    .dataframe tbody tr th {\n",
       "        vertical-align: top;\n",
       "    }\n",
       "</style>\n",
       "<table border=\"1\" class=\"dataframe\">\n",
       "  <thead>\n",
       "    <tr style=\"text-align: right;\">\n",
       "      <th>Country</th>\n",
       "      <th>Australia</th>\n",
       "      <th>Saudi Arabia</th>\n",
       "      <th>India</th>\n",
       "      <th>Turkey</th>\n",
       "      <th>Argentina</th>\n",
       "      <th>Mexico</th>\n",
       "      <th>Indonesia</th>\n",
       "    </tr>\n",
       "    <tr>\n",
       "      <th>Year</th>\n",
       "      <th></th>\n",
       "      <th></th>\n",
       "      <th></th>\n",
       "      <th></th>\n",
       "      <th></th>\n",
       "      <th></th>\n",
       "      <th></th>\n",
       "    </tr>\n",
       "  </thead>\n",
       "  <tbody>\n",
       "    <tr>\n",
       "      <th>1995</th>\n",
       "      <td>67.6</td>\n",
       "      <td>NaN</td>\n",
       "      <td>37.6</td>\n",
       "      <td>1.3</td>\n",
       "      <td>NaN</td>\n",
       "      <td>26.4</td>\n",
       "      <td>19.4</td>\n",
       "    </tr>\n",
       "    <tr>\n",
       "      <th>2005</th>\n",
       "      <td>86.3</td>\n",
       "      <td>81.4</td>\n",
       "      <td>65.8</td>\n",
       "      <td>65.9</td>\n",
       "      <td>NaN</td>\n",
       "      <td>80.5</td>\n",
       "      <td>68.7</td>\n",
       "    </tr>\n",
       "    <tr>\n",
       "      <th>2014</th>\n",
       "      <td>110.4</td>\n",
       "      <td>112.9</td>\n",
       "      <td>140.8</td>\n",
       "      <td>135.7</td>\n",
       "      <td>NaN</td>\n",
       "      <td>116.2</td>\n",
       "      <td>124.4</td>\n",
       "    </tr>\n",
       "    <tr>\n",
       "      <th>2015</th>\n",
       "      <td>112.0</td>\n",
       "      <td>114.4</td>\n",
       "      <td>147.7</td>\n",
       "      <td>146.1</td>\n",
       "      <td>NaN</td>\n",
       "      <td>119.4</td>\n",
       "      <td>132.3</td>\n",
       "    </tr>\n",
       "    <tr>\n",
       "      <th>2016</th>\n",
       "      <td>113.5</td>\n",
       "      <td>116.7</td>\n",
       "      <td>155.0</td>\n",
       "      <td>157.4</td>\n",
       "      <td>NaN</td>\n",
       "      <td>122.8</td>\n",
       "      <td>137.0</td>\n",
       "    </tr>\n",
       "    <tr>\n",
       "      <th>2017</th>\n",
       "      <td>115.7</td>\n",
       "      <td>115.7</td>\n",
       "      <td>160.1</td>\n",
       "      <td>175.0</td>\n",
       "      <td>112.9</td>\n",
       "      <td>130.2</td>\n",
       "      <td>142.2</td>\n",
       "    </tr>\n",
       "  </tbody>\n",
       "</table>\n",
       "</div>"
      ],
      "text/plain": [
       "Country  Australia  Saudi Arabia  India  Turkey  Argentina  Mexico  Indonesia\n",
       "Year                                                                         \n",
       "1995          67.6           NaN   37.6     1.3        NaN    26.4       19.4\n",
       "2005          86.3          81.4   65.8    65.9        NaN    80.5       68.7\n",
       "2014         110.4         112.9  140.8   135.7        NaN   116.2      124.4\n",
       "2015         112.0         114.4  147.7   146.1        NaN   119.4      132.3\n",
       "2016         113.5         116.7  155.0   157.4        NaN   122.8      137.0\n",
       "2017         115.7         115.7  160.1   175.0      112.9   130.2      142.2"
      ]
     },
     "execution_count": 73,
     "metadata": {},
     "output_type": "execute_result"
    }
   ],
   "source": [
    "CPI.loc[years, testing]"
   ]
  },
  {
   "cell_type": "markdown",
   "metadata": {},
   "source": [
    "## 6. Results and Analysis:"
   ]
  },
  {
   "cell_type": "markdown",
   "metadata": {
    "collapsed": true
   },
   "source": [
    "### Part I: predicting CPI range (categorical)\n",
    "- G7 countries:\n",
    "    - KNN:\n",
    "    - Naive Bayes:\n",
    "- BRICS:\n",
    "    - KNN:\n",
    "    - Naive Bayes:\n",
    "- G7 and BRICS:\n",
    "    - KNN:\n",
    "    - Naive Bayes:"
   ]
  },
  {
   "cell_type": "markdown",
   "metadata": {},
   "source": [
    "### Part II: predicting CPI value (numeric)\n",
    "- MLR model for G7 countries:\n",
    "    - R^2:\n",
    "    - CV score:\n",
    "- BRICS:\n",
    "    - R^2:\n",
    "    - CV score:\n",
    "- G7 and BRICS:\n",
    "    - R^2:\n",
    "    - CV score:"
   ]
  },
  {
   "cell_type": "markdown",
   "metadata": {},
   "source": [
    "## 7. Conclusion:"
   ]
  },
  {
   "cell_type": "code",
   "execution_count": null,
   "metadata": {
    "collapsed": true
   },
   "outputs": [],
   "source": []
  },
  {
   "cell_type": "markdown",
   "metadata": {},
   "source": [
    "## 8. References:\n",
    "\n",
    "- Description of CPI data: http://data.un.org/_Docs/SYB/PDFs/SYB61_T19_Consumer%20Price%20Index.pdf\n",
    "- G7 countries: https://en.wikipedia.org/wiki/Group_of_Seven\n",
    "- BRICS countries: https://en.wikipedia.org/wiki/BRICS\n",
    "- G20 countries: https://en.wikipedia.org/wiki/G20"
   ]
  }
 ],
 "metadata": {
  "kernelspec": {
   "display_name": "Python [default]",
   "language": "python",
   "name": "python3"
  },
  "language_info": {
   "codemirror_mode": {
    "name": "ipython",
    "version": 3
   },
   "file_extension": ".py",
   "mimetype": "text/x-python",
   "name": "python",
   "nbconvert_exporter": "python",
   "pygments_lexer": "ipython3",
   "version": "3.5.3"
  }
 },
 "nbformat": 4,
 "nbformat_minor": 2
}
